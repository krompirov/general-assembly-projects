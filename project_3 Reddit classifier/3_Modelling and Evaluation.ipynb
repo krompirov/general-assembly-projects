{
 "cells": [
  {
   "cell_type": "markdown",
   "metadata": {},
   "source": [
    "## Modelling\n",
    "It's time to build some models. These are the transformers and estimators we will be testing out.\n",
    "\n",
    "1. Transformers\n",
    "    - CountVectorizer\n",
    "    - TfidfVectorizer\n",
    "2. Parametric estimators\n",
    "    - Logistic Regression\n",
    "    - Multinomial Naive Bayes\n",
    "3. Tree-based non-parametric estimators\n",
    "    - Random Forest\n",
    "    - Extra Trees\n",
    "    - AdaBoost\n",
    "    - GradientBoost\n",
    "\n",
    "We will pair up a transformer and an estimator and gridsearch through a default set of parameters for each combined model. We'll compare the top 2 or 3 models and decide which ones we want to finetune further before finally choosing our working model."
   ]
  },
  {
   "cell_type": "code",
   "execution_count": 28,
   "metadata": {},
   "outputs": [],
   "source": [
    "import pandas as pd\n",
    "import numpy as np\n",
    "import matplotlib.pyplot as plt\n",
    "import matplotlib as mpl\n",
    "import seaborn as sns\n",
    "import re\n",
    "from bs4 import BeautifulSoup\n",
    "\n",
    "import nltk\n",
    "from nltk.stem.porter import PorterStemmer\n",
    "from nltk.stem import WordNetLemmatizer\n",
    "from nltk.corpus import stopwords, wordnet\n",
    "from nltk.tokenize import RegexpTokenizer\n",
    "from sklearn.feature_extraction.text import CountVectorizer, TfidfVectorizer\n",
    "from sklearn.model_selection import train_test_split, GridSearchCV\n",
    "from sklearn.pipeline import Pipeline\n",
    "from sklearn.linear_model import LogisticRegression\n",
    "from sklearn.naive_bayes import MultinomialNB\n",
    "from sklearn.metrics import roc_auc_score, confusion_matrix, plot_confusion_matrix, accuracy_score, plot_roc_curve, roc_curve\n",
    "from sklearn.tree import DecisionTreeClassifier\n",
    "from sklearn.ensemble import (BaggingClassifier, RandomForestClassifier, ExtraTreesClassifier, AdaBoostClassifier,\n",
    "                                GradientBoostingClassifier)\n",
    "pd.options.display.html.use_mathjax = False"
   ]
  },
  {
   "cell_type": "code",
   "execution_count": 3,
   "metadata": {},
   "outputs": [],
   "source": [
    "# some matplotlib params to make the defaults a bit more readable\n",
    "mpl.rcParams['figure.figsize'] = [8.0, 6.0]\n",
    "mpl.rcParams['font.size'] = 15\n",
    "mpl.rcParams['axes.spines.right'] = False\n",
    "mpl.rcParams['axes.spines.top'] = False"
   ]
  },
  {
   "cell_type": "markdown",
   "metadata": {},
   "source": [
    "## Create functions for iterative modelling\n",
    "Throughout this process, we may have to continually iterate over our models, finding new things to tune each time. Let's lay out some functions that help us do this."
   ]
  },
  {
   "cell_type": "code",
   "execution_count": 7,
   "metadata": {},
   "outputs": [],
   "source": [
    "# this function is from our previous notebook. we import this just in case we need to use it.\n",
    "\n",
    "# possible regexes for tokenizer\n",
    "regex1 = r'\\$?[\\d\\.\\/A-Za-z]+|\\w\\w+' # this dumb shit tokenizes normal words, and anything that starts with $ sign. like money.\n",
    "                                     # set gaps=False.\n",
    "regex2 = r'\\s+', # also set gaps= True. this splits by whitespace. \n",
    "\n",
    "def get_wordnet_pos(word):\n",
    "    \"\"\"\n",
    "    word is e.g. \"model\". pos_tag creates a list containing tuple(s) for whatever words it is passed.\n",
    "    the output will be [('model', 'NN')], which indicates that model is a noun. \n",
    "    we extract the 'tag' to be used by calling output[0][1][0], which is ('model', 'NN') inside the list, and 'NN' inside\n",
    "    the tuple, and 'N' inside the 'NN'. we map this to wordnet.NOUN, for e.g.\n",
    "    we then return to the output of this function, the appropriate wordnet.TAG\n",
    "    \"\"\"\n",
    "    tag = nltk.pos_tag([word])[0][1][0].upper()\n",
    "    tag_dict = {\"J\": wordnet.ADJ,\n",
    "                \"N\": wordnet.NOUN,\n",
    "                \"V\": wordnet.VERB,\n",
    "                \"R\": wordnet.ADV}\n",
    "\n",
    "    return tag_dict.get(tag, wordnet.NOUN)\n",
    "\n",
    "def text_preprocessor(raw_text, regex = r'\\w+|[\\d]+|\\S+', lemma=True, sw=[]):\n",
    "    \"\"\"\n",
    "    default tokenizer will split by whitespace. change regex to fit needs.\n",
    "    this function WILL take very long to run if you allow it to lemmatize.\n",
    "    default stopwords uses nltk's english stopwords. pass in a list of stopwords to sw if you want to add unique stopwords.\n",
    "    \"\"\"\n",
    "    # remove html elements\n",
    "    text = BeautifulSoup(raw_text).get_text()\n",
    "    \n",
    "    # remove urls\n",
    "    text = re.sub(r'http\\S+', '', text)\n",
    "    # remove punctuation\n",
    "#     text = re.sub(r'[^a-zA-Z\\d\\$]',' ',text)    \n",
    "    \n",
    "    #convert all to lowercase and split, i.e. tokenize\n",
    "    words = text.lower().split()\n",
    "    \n",
    "#     # convert using tokenizer\n",
    "    tokenizer = RegexpTokenizer(regex)\n",
    "    words = tokenizer.tokenize(text.lower())\n",
    "    \n",
    "    # remove stopwords\n",
    "    stops = set(stopwords.words('english') + sw)\n",
    "    words_nostop = [w for w in words if w not in stops ]    \n",
    "    \n",
    "    # allow user to choose whether to lemma data or not\n",
    "    if lemma:\n",
    "        # lemma each word\n",
    "        # this function gets the pos_tag for each word first, then tells the lemmatizer how to lemmatize each word\n",
    "        # by calling the correct pos_tag. e.g. wordnet.VERB for a verb word, wordnet.ADJ for an adjective\n",
    "\n",
    "        lemmatizer = WordNetLemmatizer()\n",
    "        words_lem = [lemmatizer.lemmatize(w, get_wordnet_pos(w)) for w in words_nostop if w.isalnum()]\n",
    "        return \" \".join(words_lem)\n",
    "    \n",
    "    return \" \".join(words_nostop)\n",
    "    "
   ]
  },
  {
   "cell_type": "code",
   "execution_count": 8,
   "metadata": {},
   "outputs": [],
   "source": [
    "# this function allows me to quickly create my GridSearchCV object using whatever transformers or estimators i want.\n",
    "\n",
    "vecs = {'cvec': CountVectorizer(),\n",
    "        'tvec': TfidfVectorizer()}\n",
    "models = {'lr': LogisticRegression(max_iter=1000, random_state=101),\n",
    "          'nb': MultinomialNB(),\n",
    "          'rf': RandomForestClassifier(random_state=101),\n",
    "          'et': ExtraTreesClassifier(random_state=101),\n",
    "          'ada': AdaBoostClassifier(DecisionTreeClassifier(), random_state=101),\n",
    "          'gb': GradientBoostingClassifier(random_state=101)\n",
    "         }\n",
    "\n",
    "def gscv_creator(vectorizer, model, pipe_params, n_jobs=-1):\n",
    "    \"\"\"\n",
    "    helps me instantiate my models quickly. \n",
    "    pass in your choice of vectorizer and model\n",
    "    ensure that your parameters for gridsearching are prefixed correctly according to the dunder__ convention \n",
    "    leave n_jobs as -1 unless you have good reason for making it slower and more painful than necessary.\n",
    "    \"\"\"\n",
    "    pipe = Pipeline([\n",
    "        (vectorizer, vecs[vectorizer]),\n",
    "        (model, models[model]),\n",
    "    ])\n",
    "    \n",
    "    gs = GridSearchCV(pipe,\n",
    "                      pipe_params,\n",
    "                      cv=5,\n",
    "                      verbose=1,\n",
    "                      n_jobs=n_jobs) # force maximum number of concurrent workers\n",
    "    return gs\n"
   ]
  },
  {
   "cell_type": "code",
   "execution_count": 9,
   "metadata": {},
   "outputs": [],
   "source": [
    "# this function prints a bunch of summary stats about our GridSearchCV object. \n",
    "# it requires that our GridSearchCV object has been fit on the training set already.\n",
    "\n",
    "def gscv_result_printer(gs, X=None, y=None):\n",
    "    \"\"\"\n",
    "    feed in a GridSearchCV that is already fit on X_train, y_train.\n",
    "    prints out a bunch of stuff to compare\n",
    "    \"\"\"\n",
    "    print(\"Best CV score: {}\".format(gs.best_score_))\n",
    "    print(\"Best params: {}\".format(gs.best_params_))\n",
    "    print('----------')\n",
    "    predictions = gs.predict(X_train)\n",
    "    print(\"Training ROC AUC: {}\".format(roc_auc_score(y_train, predictions)))\n",
    "    print(\"Training accuracy: {}\".format(gs.score(X_train, y_train)))\n",
    "    # pass in X and Y arguments if you would like to score the gs object on something else, like the X_val set.\n",
    "    if X is None:\n",
    "        pass\n",
    "    else:\n",
    "        predictions = gs.predict(X)\n",
    "        print(\"Validation ROC AUC: {}\".format(roc_auc_score(y_val, predictions)))\n",
    "        print(\"Validation accuracy: {}\".format(gs.score(X,y)))\n",
    "        tn, fp, fn, tp = confusion_matrix(y_val, predictions).ravel()\n",
    "        print(f'True positives: {tp}')\n",
    "        print(f'False positives: {fp}')\n",
    "        print(f'True negatives: {tn}')\n",
    "        print(f'False negatives: {fn}')"
   ]
  },
  {
   "cell_type": "markdown",
   "metadata": {},
   "source": [
    "## Model factory\n",
    "Let's load in our data and start running a few different models on them. To facilitate comparisons between models, we will first run these models using some standard params, and simply compare the baseline scores we get from each model."
   ]
  },
  {
   "cell_type": "code",
   "execution_count": 4,
   "metadata": {},
   "outputs": [],
   "source": [
    "# load our data\n",
    "df = pd.read_csv('./data/options_stocks_processed_combined.csv')"
   ]
  },
  {
   "cell_type": "markdown",
   "metadata": {},
   "source": [
    "### Baseline score\n",
    "In order to score our model's performance, we need to decide on a metric to use. 2 metrics come to mind - accuracy and f1-score. This is a rough summary of what each metric is useful for.\n",
    "\n",
    "1. Accuracy\n",
    "    - good when you have balanced classes and you are [interested in True Positives and True Negatives.](https://medium.com/analytics-vidhya/accuracy-vs-f1-score-6258237beca2#)\n",
    "2. ROC AUC \n",
    "    - good when you have balanced classes and you are interested in understanding the [discriminability of your model](https://datascience.stackexchange.com/questions/806/advantages-of-auc-vs-standard-accuracy)(the class probabilities that the model predicts for each observation).\n",
    "    \n",
    "For our project, both are appropriate, so we will want to use both. Let's check our class ratio."
   ]
  },
  {
   "cell_type": "code",
   "execution_count": 7,
   "metadata": {},
   "outputs": [
    {
     "data": {
      "text/plain": [
       "1    0.510938\n",
       "0    0.489063\n",
       "Name: subreddit, dtype: float64"
      ]
     },
     "execution_count": 7,
     "metadata": {},
     "output_type": "execute_result"
    }
   ],
   "source": [
    "# look at the balance of our target classes\n",
    "df['subreddit'].value_counts(normalize=True)"
   ]
  },
  {
   "cell_type": "markdown",
   "metadata": {},
   "source": [
    "This is great, our classes are quite well-balanced, so we'll go ahead with scoring our models on both metrics. We will also use the proportion of our majority class as our baseline accuracy, as that is the accuracy we would obtain simply by predicting all our target observations to be the majority class.\n",
    "\n",
    "Our baseline accuracy is thus 51.1%. Our model should aim to beat this score, otherwise there is no reason to build a model."
   ]
  },
  {
   "cell_type": "code",
   "execution_count": 5,
   "metadata": {},
   "outputs": [],
   "source": [
    "X = df['all_text_clean']\n",
    "y = df['subreddit']\n",
    "X_train, X_val, y_train, y_val = train_test_split(X, y, stratify = y, random_state = 420)\n"
   ]
  },
  {
   "cell_type": "markdown",
   "metadata": {},
   "source": [
    "### Parametric models\n",
    "Let's begin scoring a few different models"
   ]
  },
  {
   "cell_type": "code",
   "execution_count": 9,
   "metadata": {},
   "outputs": [
    {
     "name": "stdout",
     "output_type": "stream",
     "text": [
      "Fitting 5 folds for each of 72 candidates, totalling 360 fits\n"
     ]
    },
    {
     "name": "stderr",
     "output_type": "stream",
     "text": [
      "[Parallel(n_jobs=-1)]: Using backend LokyBackend with 8 concurrent workers.\n",
      "[Parallel(n_jobs=-1)]: Done  34 tasks      | elapsed:    8.7s\n",
      "[Parallel(n_jobs=-1)]: Done 184 tasks      | elapsed:   33.5s\n",
      "[Parallel(n_jobs=-1)]: Done 360 out of 360 | elapsed:  1.0min finished\n"
     ]
    },
    {
     "name": "stdout",
     "output_type": "stream",
     "text": [
      "Best CV score: 0.8520833333333334\n",
      "Best params: {'cvec__max_df': 0.9, 'cvec__max_features': 8000, 'cvec__min_df': 2, 'cvec__ngram_range': (1, 2), 'cvec__stop_words': ['stocks', 'options', 'stock', 'option'], 'lr__C': 0.5}\n",
      "----------\n",
      "Training ROC AUC: 0.9985795454545455\n",
      "Training accuracy: 0.9986111111111111\n",
      "Validation ROC AUC: 0.8712114633087278\n",
      "Validation accuracy: 0.8708333333333333\n",
      "True positives: 209\n",
      "False positives: 26\n",
      "True negatives: 209\n",
      "False negatives: 36\n"
     ]
    }
   ],
   "source": [
    "# Model 1: CountVectorizer with Logistic Regression\n",
    "\n",
    "pipe_params = {\n",
    "    'cvec__max_df':[0.9, 0.85],\n",
    "    'cvec__min_df':[2,3],\n",
    "    'cvec__max_features':[2000,5000,8000],\n",
    "    'cvec__ngram_range':[(1,1),(1,2)],\n",
    "    'cvec__stop_words':[['stocks','options','stock','option']],\n",
    "    'lr__C':[0.5,0.7,1.0]\n",
    "}\n",
    "`\n",
    "lr_cvec_cv = gscv_creator('cvec', 'lr', pipe_params)\n",
    "lr_cvec_cv.fit(X_train, y_train)\n",
    "gscv_result_printer(lr_cvec_cv, X_val, y_val)"
   ]
  },
  {
   "cell_type": "code",
   "execution_count": 10,
   "metadata": {},
   "outputs": [
    {
     "name": "stdout",
     "output_type": "stream",
     "text": [
      "Fitting 5 folds for each of 72 candidates, totalling 360 fits\n"
     ]
    },
    {
     "name": "stderr",
     "output_type": "stream",
     "text": [
      "[Parallel(n_jobs=-1)]: Using backend LokyBackend with 8 concurrent workers.\n",
      "[Parallel(n_jobs=-1)]: Done  34 tasks      | elapsed:    4.5s\n",
      "[Parallel(n_jobs=-1)]: Done 184 tasks      | elapsed:   23.7s\n",
      "[Parallel(n_jobs=-1)]: Done 360 out of 360 | elapsed:   46.9s finished\n"
     ]
    },
    {
     "name": "stdout",
     "output_type": "stream",
     "text": [
      "Best CV score: 0.875\n",
      "Best params: {'lr__C': 1.0, 'tvec__max_df': 0.9, 'tvec__max_features': 5000, 'tvec__min_df': 3, 'tvec__ngram_range': (1, 2), 'tvec__stop_words': ['stocks', 'options', 'stock', 'option', 'preview', 'redd', 'format', 'auto', 'png', 'reddit', 'http', 'https', 'www', 'com', 'amp', 'automoderator']}\n",
      "----------\n",
      "Training ROC AUC: 0.9442008399209485\n",
      "Training accuracy: 0.94375\n",
      "Validation ROC AUC: 0.8798089448545375\n",
      "Validation accuracy: 0.8791666666666667\n",
      "True positives: 208\n",
      "False positives: 21\n",
      "True negatives: 214\n",
      "False negatives: 37\n"
     ]
    }
   ],
   "source": [
    "# Model 2: TfIDFVectorizer with Logistic Regression\n",
    "\n",
    "pipe_params = {\n",
    "    'tvec__max_df':[0.9, 0.85],\n",
    "    'tvec__min_df':[2,3],\n",
    "    'tvec__max_features':[2000,5000,8000],\n",
    "    'tvec__ngram_range':[(1,1),(1,2)],\n",
    "    'tvec__stop_words':[['stocks','options','stock','option']],\n",
    "    'lr__C':[0.5,0.7,1.0]\n",
    "}\n",
    "\n",
    "lr_tvec_cv = gscv_creator('tvec', 'lr', pipe_params)\n",
    "lr_tvec_cv.fit(X_train, y_train)\n",
    "gscv_result_printer(lr_tvec_cv, X_val, y_val)"
   ]
  },
  {
   "cell_type": "code",
   "execution_count": 1,
   "metadata": {},
   "outputs": [
    {
     "ename": "NameError",
     "evalue": "name 'gscv_creator' is not defined",
     "output_type": "error",
     "traceback": [
      "\u001b[1;31m---------------------------------------------------------------------------\u001b[0m",
      "\u001b[1;31mNameError\u001b[0m                                 Traceback (most recent call last)",
      "\u001b[1;32m<ipython-input-1-52a11147541a>\u001b[0m in \u001b[0;36m<module>\u001b[1;34m\u001b[0m\n\u001b[0;32m      9\u001b[0m }\n\u001b[0;32m     10\u001b[0m \u001b[1;33m\u001b[0m\u001b[0m\n\u001b[1;32m---> 11\u001b[1;33m \u001b[0mnb_cvec_cv\u001b[0m \u001b[1;33m=\u001b[0m \u001b[0mgscv_creator\u001b[0m\u001b[1;33m(\u001b[0m\u001b[1;34m'cvec'\u001b[0m\u001b[1;33m,\u001b[0m \u001b[1;34m'nb'\u001b[0m\u001b[1;33m,\u001b[0m \u001b[0mpipe_params\u001b[0m\u001b[1;33m)\u001b[0m\u001b[1;33m\u001b[0m\u001b[1;33m\u001b[0m\u001b[0m\n\u001b[0m\u001b[0;32m     12\u001b[0m \u001b[0mnb_cvec_cv\u001b[0m\u001b[1;33m.\u001b[0m\u001b[0mfit\u001b[0m\u001b[1;33m(\u001b[0m\u001b[0mX_train\u001b[0m\u001b[1;33m,\u001b[0m \u001b[0my_train\u001b[0m\u001b[1;33m)\u001b[0m\u001b[1;33m\u001b[0m\u001b[1;33m\u001b[0m\u001b[0m\n\u001b[0;32m     13\u001b[0m \u001b[0mgscv_result_printer\u001b[0m\u001b[1;33m(\u001b[0m\u001b[0mnb_cvec_cv\u001b[0m\u001b[1;33m,\u001b[0m \u001b[0mX_val\u001b[0m\u001b[1;33m,\u001b[0m \u001b[0my_val\u001b[0m\u001b[1;33m)\u001b[0m\u001b[1;33m\u001b[0m\u001b[1;33m\u001b[0m\u001b[0m\n",
      "\u001b[1;31mNameError\u001b[0m: name 'gscv_creator' is not defined"
     ]
    }
   ],
   "source": [
    "# Model 3: CountVectorizer with Multinomial Naive Bayes\n",
    "pipe_params = {\n",
    "    'cvec__max_df':[0.9, 0.85],\n",
    "    'cvec__min_df':[2,3],\n",
    "    'cvec__max_features':[2000,5000,8000],\n",
    "    'cvec__ngram_range':[(1,1),(1,2)],\n",
    "    'cvec__stop_words':[['stocks','options','stock','option']],\n",
    "    'nb__alpha':[0.5,1.0]\n",
    "}\n",
    "\n",
    "nb_cvec_cv = gscv_creator('cvec', 'nb', pipe_params)\n",
    "nb_cvec_cv.fit(X_train, y_train)\n",
    "gscv_result_printer(nb_cvec_cv, X_val, y_val)"
   ]
  },
  {
   "cell_type": "code",
   "execution_count": 12,
   "metadata": {},
   "outputs": [
    {
     "name": "stdout",
     "output_type": "stream",
     "text": [
      "Fitting 5 folds for each of 48 candidates, totalling 240 fits\n"
     ]
    },
    {
     "name": "stderr",
     "output_type": "stream",
     "text": [
      "[Parallel(n_jobs=-1)]: Using backend LokyBackend with 8 concurrent workers.\n",
      "[Parallel(n_jobs=-1)]: Done  34 tasks      | elapsed:    4.2s\n",
      "[Parallel(n_jobs=-1)]: Done 184 tasks      | elapsed:   23.2s\n",
      "[Parallel(n_jobs=-1)]: Done 240 out of 240 | elapsed:   30.3s finished\n"
     ]
    },
    {
     "name": "stdout",
     "output_type": "stream",
     "text": [
      "Best CV score: 0.8597222222222222\n",
      "Best params: {'nb__alpha': 0.5, 'tvec__max_df': 0.9, 'tvec__max_features': 8000, 'tvec__min_df': 2, 'tvec__ngram_range': (1, 2), 'tvec__stop_words': ['stocks', 'options', 'stock', 'option', 'preview', 'redd', 'format', 'auto', 'png', 'reddit', 'http', 'https', 'www', 'com', 'amp', 'automoderator']}\n",
      "----------\n",
      "Training ROC AUC: 0.9416687252964427\n",
      "Training accuracy: 0.9416666666666667\n",
      "Validation ROC AUC: 0.8687364307425098\n",
      "Validation accuracy: 0.86875\n",
      "True positives: 213\n",
      "False positives: 31\n",
      "True negatives: 204\n",
      "False negatives: 32\n"
     ]
    }
   ],
   "source": [
    "# Model 4: TfIDFVectorizer with Multinomial Naive Bayes\n",
    "\n",
    "pipe_params = {\n",
    "    'tvec__max_df':[0.9, 0.85],\n",
    "    'tvec__min_df':[2,3],\n",
    "    'tvec__max_features':[2000,5000,8000],\n",
    "    'tvec__ngram_range':[(1,1),(1,2)],\n",
    "    'tvec__stop_words':[['stocks','options','stock','option']],\n",
    "    'nb__alpha':[0.5,1.0]\n",
    "}\n",
    "\n",
    "nb_tvec_cv = gscv_creator('tvec', 'nb', pipe_params)\n",
    "nb_tvec_cv.fit(X_train, y_train)\n",
    "gscv_result_printer(nb_tvec_cv, X_val, y_val)"
   ]
  },
  {
   "cell_type": "markdown",
   "metadata": {},
   "source": [
    "Here's a summary of our initial findings:\n",
    "\n",
    "|Vectorizer|Estimator|Train accuracy|Validation accuracy|\n",
    "|---|---|---|---|\n",
    "|cvec|Logistic Regression|0.999|0.865|\n",
    "|tvec|Logistic Regression|0.943|0.879|\n",
    "|cvec|Multinomial NB|0.908|0.835|\n",
    "|tvec|Multinomial NB|0.942|0.869|\n",
    "\n",
    "Our first model was terribly overfit, achieving almost perfect accuracy on the train set, which should not be possible. The validation accuracy was also 14% lower, which is the largest drop in performance among our 5 models tested so far. The 2 Multinomial NB models had similar levels of overfitting, but the one that used tvec scored about 3% higher in accuracy. Our Logistic Regression with tvec gave us the best results in terms of both overfitting and validation accuracy, thus it is our best model so far. From these results, we are interested in exploring Model 2 and Model 4 further.\n",
    "***\n",
    "#### Finetuning\n",
    "Let's finetune our 2 best models to see if we can improve our scores. We will just keep running different parameters with different search ranges and see what happens to our scores."
   ]
  },
  {
   "cell_type": "code",
   "execution_count": 33,
   "metadata": {},
   "outputs": [
    {
     "name": "stdout",
     "output_type": "stream",
     "text": [
      "Fitting 5 folds for each of 36 candidates, totalling 180 fits\n"
     ]
    },
    {
     "name": "stderr",
     "output_type": "stream",
     "text": [
      "[Parallel(n_jobs=-1)]: Using backend LokyBackend with 8 concurrent workers.\n",
      "[Parallel(n_jobs=-1)]: Done  34 tasks      | elapsed:   16.6s\n",
      "[Parallel(n_jobs=-1)]: Done 180 out of 180 | elapsed:  1.4min finished\n"
     ]
    },
    {
     "name": "stdout",
     "output_type": "stream",
     "text": [
      "Best CV score: 0.8756944444444447\n",
      "Best params: {'lr__C': 1.0, 'lr__l1_ratio': 0, 'lr__penalty': 'elasticnet', 'lr__solver': 'saga', 'tvec__max_df': 0.8, 'tvec__max_features': 3000, 'tvec__min_df': 2, 'tvec__ngram_range': (1, 3), 'tvec__stop_words': ['stocks', 'options', 'stock', 'option']}\n",
      "----------\n",
      "Training ROC AUC: 0.9366353754940712\n",
      "Training accuracy: 0.9361111111111111\n",
      "Validation ROC AUC: 0.8820234476769431\n",
      "Validation accuracy: 0.88125\n",
      "True positives: 207\n",
      "False positives: 19\n",
      "True negatives: 216\n",
      "False negatives: 38\n"
     ]
    }
   ],
   "source": [
    "# Model 2: TfIDFVectorizer with Logistic Regression\n",
    "\n",
    "pipe_params = {\n",
    "    'tvec__max_df':[0.8,0.9],\n",
    "    'tvec__min_df':[1,2,3],\n",
    "    'tvec__max_features':[2000,3000,5000],\n",
    "    'tvec__ngram_range':[(1,4),(1,3)],\n",
    "    'tvec__stop_words':[['stocks','options','stock','option']],\n",
    "    'lr__C':[1.0],\n",
    "    'lr__penalty':['elasticnet'],\n",
    "    'lr__l1_ratio': [0],\n",
    "    'lr__solver': ['saga']\n",
    "}\n",
    "\n",
    "lr_tvec_cv = gscv_creator('tvec', 'lr', pipe_params)\n",
    "lr_tvec_cv.fit(X_train, y_train)\n",
    "gscv_result_printer(lr_tvec_cv, X_val, y_val)"
   ]
  },
  {
   "cell_type": "code",
   "execution_count": 234,
   "metadata": {},
   "outputs": [],
   "source": [
    "optimal_lr_params = lr_tvec_cv.best_params_"
   ]
  },
  {
   "cell_type": "code",
   "execution_count": 37,
   "metadata": {
    "scrolled": true
   },
   "outputs": [
    {
     "name": "stdout",
     "output_type": "stream",
     "text": [
      "Fitting 5 folds for each of 81 candidates, totalling 405 fits\n"
     ]
    },
    {
     "name": "stderr",
     "output_type": "stream",
     "text": [
      "[Parallel(n_jobs=-1)]: Using backend LokyBackend with 8 concurrent workers.\n",
      "[Parallel(n_jobs=-1)]: Done  34 tasks      | elapsed:   12.3s\n",
      "[Parallel(n_jobs=-1)]: Done 184 tasks      | elapsed:  1.0min\n",
      "[Parallel(n_jobs=-1)]: Done 405 out of 405 | elapsed:  2.3min finished\n"
     ]
    },
    {
     "name": "stdout",
     "output_type": "stream",
     "text": [
      "Best CV score: 0.8666666666666668\n",
      "Best params: {'nb__alpha': 1.0, 'tvec__max_df': 0.85, 'tvec__max_features': 10000, 'tvec__min_df': 3, 'tvec__ngram_range': (1, 4), 'tvec__stop_words': ['stocks', 'options', 'stock', 'option']}\n",
      "----------\n",
      "Training ROC AUC: 0.9391366106719368\n",
      "Training accuracy: 0.9388888888888889\n",
      "Validation ROC AUC: 0.8689101172383848\n",
      "Validation accuracy: 0.86875\n",
      "True positives: 211\n",
      "False positives: 29\n",
      "True negatives: 206\n",
      "False negatives: 34\n"
     ]
    }
   ],
   "source": [
    "# Model 4: TfidfVectorizer with Multinomial Naive Bayes\n",
    "pipe_params = {\n",
    "    'tvec__max_df':[0.85, 0.9, 0.95],\n",
    "    'tvec__min_df':[2,3,4],\n",
    "    'tvec__max_features':[5000,8000,10000],\n",
    "    'tvec__ngram_range':[(1,4),(1,2),(1,3)],\n",
    "    'tvec__stop_words':[['stocks','options','stock','option']],\n",
    "    'nb__alpha':[1.0]\n",
    "}\n",
    "\n",
    "nb_cvec_cv = gscv_creator('tvec', 'nb', pipe_params)\n",
    "nb_cvec_cv.fit(X_train, y_train)\n",
    "gscv_result_printer(nb_cvec_cv, X_val, y_val)"
   ]
  },
  {
   "cell_type": "markdown",
   "metadata": {},
   "source": [
    "After *many, many* iterations trying out different parameters, extending the search range of parameters etc, we managed to improve these scores slightly. In fact, some iterations of grid-searching ended up slightly worsening our scores, so we are going to stick with these above parameters as they are the best we have found so far in that they reduced overfitting or improved our accuracy."
   ]
  },
  {
   "cell_type": "markdown",
   "metadata": {},
   "source": [
    "#### How to intepret the feature probability from Multinomial NB\n",
    "\n",
    "Recall that in our example, Naive Bayes theorem takes the form \n",
    "$$P(options|words) = \\frac{P(w_1|options)P(w_2|options)...P(options)}{P(w_1)P(w_2)...}$$\n",
    "Putting the features above into our equation, we get\n",
    "$$P(options|words) = \\frac{P(call|options)P(sell|options)P(price|options)P(put|options)...P(options)}{P(call)P(sell)...}$$\n",
    "From sklearn's MultinomialNB we can extract the log probabilities of these features. Exponentiating them will return to us the base probabilities of each feature. This gives us for example\n",
    "$$P(call|options) = 0.0126, P(put|options) = 0.00589, P(short|options) = 0.00446$$\n"
   ]
  },
  {
   "cell_type": "code",
   "execution_count": 67,
   "metadata": {
    "scrolled": true
   },
   "outputs": [
    {
     "data": {
      "text/html": [
       "<div>\n",
       "<style scoped>\n",
       "    .dataframe tbody tr th:only-of-type {\n",
       "        vertical-align: middle;\n",
       "    }\n",
       "\n",
       "    .dataframe tbody tr th {\n",
       "        vertical-align: top;\n",
       "    }\n",
       "\n",
       "    .dataframe thead th {\n",
       "        text-align: right;\n",
       "    }\n",
       "</style>\n",
       "<table border=\"1\" class=\"dataframe tex2jax_ignore\">\n",
       "  <thead>\n",
       "    <tr style=\"text-align: right;\">\n",
       "      <th></th>\n",
       "      <th>feature</th>\n",
       "      <th>coef</th>\n",
       "    </tr>\n",
       "  </thead>\n",
       "  <tbody>\n",
       "    <tr>\n",
       "      <th>1434</th>\n",
       "      <td>call</td>\n",
       "      <td>0.012628</td>\n",
       "    </tr>\n",
       "    <tr>\n",
       "      <th>6360</th>\n",
       "      <td>sell</td>\n",
       "      <td>0.007924</td>\n",
       "    </tr>\n",
       "    <tr>\n",
       "      <th>5581</th>\n",
       "      <td>price</td>\n",
       "      <td>0.007378</td>\n",
       "    </tr>\n",
       "    <tr>\n",
       "      <th>5753</th>\n",
       "      <td>put</td>\n",
       "      <td>0.005886</td>\n",
       "    </tr>\n",
       "    <tr>\n",
       "      <th>3242</th>\n",
       "      <td>go</td>\n",
       "      <td>0.005230</td>\n",
       "    </tr>\n",
       "    <tr>\n",
       "      <th>3174</th>\n",
       "      <td>get</td>\n",
       "      <td>0.005021</td>\n",
       "    </tr>\n",
       "    <tr>\n",
       "      <th>6467</th>\n",
       "      <td>share</td>\n",
       "      <td>0.005001</td>\n",
       "    </tr>\n",
       "    <tr>\n",
       "      <th>6536</th>\n",
       "      <td>short</td>\n",
       "      <td>0.004464</td>\n",
       "    </tr>\n",
       "    <tr>\n",
       "      <th>4499</th>\n",
       "      <td>market</td>\n",
       "      <td>0.004404</td>\n",
       "    </tr>\n",
       "    <tr>\n",
       "      <th>7855</th>\n",
       "      <td>would</td>\n",
       "      <td>0.004335</td>\n",
       "    </tr>\n",
       "    <tr>\n",
       "      <th>4198</th>\n",
       "      <td>like</td>\n",
       "      <td>0.004265</td>\n",
       "    </tr>\n",
       "    <tr>\n",
       "      <th>1374</th>\n",
       "      <td>buy</td>\n",
       "      <td>0.004245</td>\n",
       "    </tr>\n",
       "    <tr>\n",
       "      <th>7292</th>\n",
       "      <td>trade</td>\n",
       "      <td>0.004056</td>\n",
       "    </tr>\n",
       "    <tr>\n",
       "      <th>7198</th>\n",
       "      <td>time</td>\n",
       "      <td>0.003748</td>\n",
       "    </tr>\n",
       "    <tr>\n",
       "      <th>4413</th>\n",
       "      <td>make</td>\n",
       "      <td>0.003728</td>\n",
       "    </tr>\n",
       "    <tr>\n",
       "      <th>3501</th>\n",
       "      <td>high</td>\n",
       "      <td>0.003609</td>\n",
       "    </tr>\n",
       "    <tr>\n",
       "      <th>2136</th>\n",
       "      <td>day</td>\n",
       "      <td>0.003539</td>\n",
       "    </tr>\n",
       "    <tr>\n",
       "      <th>4276</th>\n",
       "      <td>long</td>\n",
       "      <td>0.003420</td>\n",
       "    </tr>\n",
       "    <tr>\n",
       "      <th>7309</th>\n",
       "      <td>trading</td>\n",
       "      <td>0.003360</td>\n",
       "    </tr>\n",
       "    <tr>\n",
       "      <th>4307</th>\n",
       "      <td>look</td>\n",
       "      <td>0.003301</td>\n",
       "    </tr>\n",
       "  </tbody>\n",
       "</table>\n",
       "</div>"
      ],
      "text/plain": [
       "      feature      coef\n",
       "1434     call  0.012628\n",
       "6360     sell  0.007924\n",
       "5581    price  0.007378\n",
       "5753      put  0.005886\n",
       "3242       go  0.005230\n",
       "3174      get  0.005021\n",
       "6467    share  0.005001\n",
       "6536    short  0.004464\n",
       "4499   market  0.004404\n",
       "7855    would  0.004335\n",
       "4198     like  0.004265\n",
       "1374      buy  0.004245\n",
       "7292    trade  0.004056\n",
       "7198     time  0.003748\n",
       "4413     make  0.003728\n",
       "3501     high  0.003609\n",
       "2136      day  0.003539\n",
       "4276     long  0.003420\n",
       "7309  trading  0.003360\n",
       "4307     look  0.003301"
      ]
     },
     "execution_count": 67,
     "metadata": {},
     "output_type": "execute_result"
    }
   ],
   "source": [
    "# extract the probabilities out from multiNB\n",
    "coef_table2 = pd.DataFrame({'feature': nb_cvec_cv.best_estimator_['cvec'].get_feature_names(),\n",
    "              'coef': np.exp(nb_cvec_cv.best_estimator_['nb'].feature_log_prob_[1])}).sort_values(by='coef', ascending=False)\n",
    "coef_table2.head(20)"
   ]
  },
  {
   "cell_type": "markdown",
   "metadata": {},
   "source": [
    "### Tree-based models\n",
    "Having tried out 2 parametric models above, let's compare their performance to the non-parametric tree-based models. We will run both RandomForestClassifier and ExtraTreesClassifier on the same defaults and analyse their results."
   ]
  },
  {
   "cell_type": "code",
   "execution_count": 13,
   "metadata": {},
   "outputs": [
    {
     "name": "stdout",
     "output_type": "stream",
     "text": [
      "Fitting 5 folds for each of 288 candidates, totalling 1440 fits\n"
     ]
    },
    {
     "name": "stderr",
     "output_type": "stream",
     "text": [
      "[Parallel(n_jobs=-1)]: Using backend LokyBackend with 8 concurrent workers.\n",
      "[Parallel(n_jobs=-1)]: Done  34 tasks      | elapsed:    6.6s\n",
      "[Parallel(n_jobs=-1)]: Done 184 tasks      | elapsed:   37.1s\n",
      "[Parallel(n_jobs=-1)]: Done 434 tasks      | elapsed:  1.5min\n",
      "[Parallel(n_jobs=-1)]: Done 784 tasks      | elapsed:  2.8min\n",
      "[Parallel(n_jobs=-1)]: Done 1234 tasks      | elapsed:  4.3min\n",
      "[Parallel(n_jobs=-1)]: Done 1440 out of 1440 | elapsed:  5.1min finished\n"
     ]
    },
    {
     "name": "stdout",
     "output_type": "stream",
     "text": [
      "Best CV score: 0.867361111111111\n",
      "Best params: {'cvec__max_df': 0.85, 'cvec__max_features': 2000, 'cvec__min_df': 3, 'cvec__ngram_range': (1, 2), 'cvec__stop_words': ['stocks', 'options', 'stock', 'option', 'preview', 'redd', 'format', 'auto', 'png', 'reddit', 'http', 'https', 'www', 'com', 'amp', 'automoderator'], 'rf__max_depth': None, 'rf__min_samples_leaf': 2, 'rf__n_estimators': 200}\n",
      "----------\n",
      "Training ROC AUC: 0.9832633399209486\n",
      "Training accuracy: 0.9833333333333333\n",
      "Validation ROC AUC: 0.8587928788536693\n",
      "Validation accuracy: 0.8583333333333333\n",
      "True positives: 205\n",
      "False positives: 28\n",
      "True negatives: 207\n",
      "False negatives: 40\n"
     ]
    }
   ],
   "source": [
    "# Model 5: CountVectorizer with RandomForest\n",
    "pipe_params = {\n",
    "    'cvec__max_df':[0.85, 0.9],\n",
    "    'cvec__min_df':[2,3],\n",
    "    'cvec__max_features':[2000,5000,8000],\n",
    "    'cvec__ngram_range':[(1,1),(1,2)],\n",
    "    'cvec__stop_words':[['stocks','options','stock','option']],\n",
    "    'rf__n_estimators':[100,200],\n",
    "    'rf__max_depth':[None,3,5],\n",
    "    'rf__min_samples_leaf':[2,5]\n",
    "}\n",
    "\n",
    "rf_cvec_cv = gscv_creator('cvec', 'rf', pipe_params)\n",
    "rf_cvec_cv.fit(X_train, y_train)\n",
    "gscv_result_printer(rf_cvec_cv, X_val, y_val)"
   ]
  },
  {
   "cell_type": "code",
   "execution_count": 14,
   "metadata": {},
   "outputs": [
    {
     "name": "stdout",
     "output_type": "stream",
     "text": [
      "Fitting 5 folds for each of 288 candidates, totalling 1440 fits\n"
     ]
    },
    {
     "name": "stderr",
     "output_type": "stream",
     "text": [
      "[Parallel(n_jobs=-1)]: Using backend LokyBackend with 8 concurrent workers.\n",
      "[Parallel(n_jobs=-1)]: Done  34 tasks      | elapsed:    8.6s\n",
      "[Parallel(n_jobs=-1)]: Done 184 tasks      | elapsed:   51.8s\n",
      "[Parallel(n_jobs=-1)]: Done 434 tasks      | elapsed:  1.9min\n",
      "[Parallel(n_jobs=-1)]: Done 784 tasks      | elapsed:  3.1min\n",
      "[Parallel(n_jobs=-1)]: Done 1234 tasks      | elapsed:  4.6min\n",
      "[Parallel(n_jobs=-1)]: Done 1440 out of 1440 | elapsed:  5.4min finished\n"
     ]
    },
    {
     "name": "stdout",
     "output_type": "stream",
     "text": [
      "Best CV score: 0.8694444444444445\n",
      "Best params: {'rf__max_depth': None, 'rf__min_samples_leaf': 2, 'rf__n_estimators': 200, 'tvec__max_df': 0.85, 'tvec__max_features': 2000, 'tvec__min_df': 2, 'tvec__ngram_range': (1, 1), 'tvec__stop_words': ['stocks', 'options', 'stock', 'option', 'preview', 'redd', 'format', 'auto', 'png', 'reddit', 'http', 'https', 'www', 'com', 'amp', 'automoderator']}\n",
      "----------\n",
      "Training ROC AUC: 0.992959486166008\n",
      "Training accuracy: 0.9930555555555556\n",
      "Validation ROC AUC: 0.8588797221016065\n",
      "Validation accuracy: 0.8583333333333333\n",
      "True positives: 204\n",
      "False positives: 27\n",
      "True negatives: 208\n",
      "False negatives: 41\n"
     ]
    }
   ],
   "source": [
    "# Model 6: TfidfVectorizer with RandomForest\n",
    "pipe_params = {\n",
    "    'tvec__max_df':[0.85, 0.9],\n",
    "    'tvec__min_df':[2,3],\n",
    "    'tvec__max_features':[2000,5000,8000],\n",
    "    'tvec__ngram_range':[(1,1),(1,2)],\n",
    "    'tvec__stop_words':[['stocks','options','stock','option']],\n",
    "    'rf__n_estimators':[100,200],\n",
    "    'rf__max_depth':[None,3,5],\n",
    "    'rf__min_samples_leaf':[2,5]\n",
    "}\n",
    "\n",
    "rf_tvec_cv = gscv_creator('tvec', 'rf', pipe_params)\n",
    "rf_tvec_cv.fit(X_train, y_train)\n",
    "gscv_result_printer(rf_tvec_cv, X_val, y_val)"
   ]
  },
  {
   "cell_type": "code",
   "execution_count": 15,
   "metadata": {},
   "outputs": [
    {
     "name": "stdout",
     "output_type": "stream",
     "text": [
      "Fitting 5 folds for each of 288 candidates, totalling 1440 fits\n"
     ]
    },
    {
     "name": "stderr",
     "output_type": "stream",
     "text": [
      "[Parallel(n_jobs=-1)]: Using backend LokyBackend with 8 concurrent workers.\n",
      "[Parallel(n_jobs=-1)]: Done  34 tasks      | elapsed:    6.4s\n",
      "[Parallel(n_jobs=-1)]: Done 184 tasks      | elapsed:   36.4s\n",
      "[Parallel(n_jobs=-1)]: Done 434 tasks      | elapsed:  1.5min\n",
      "[Parallel(n_jobs=-1)]: Done 784 tasks      | elapsed:  2.7min\n",
      "[Parallel(n_jobs=-1)]: Done 1234 tasks      | elapsed:  4.2min\n",
      "[Parallel(n_jobs=-1)]: Done 1440 out of 1440 | elapsed:  5.0min finished\n"
     ]
    },
    {
     "name": "stdout",
     "output_type": "stream",
     "text": [
      "Best CV score: 0.8569444444444445\n",
      "Best params: {'cvec__max_df': 0.85, 'cvec__max_features': 2000, 'cvec__min_df': 3, 'cvec__ngram_range': (1, 1), 'cvec__stop_words': ['stocks', 'options', 'stock', 'option', 'preview', 'redd', 'format', 'auto', 'png', 'reddit', 'http', 'https', 'www', 'com', 'amp', 'automoderator'], 'et__max_depth': None, 'et__min_samples_leaf': 2, 'et__n_estimators': 200}\n",
      "----------\n",
      "Training ROC AUC: 0.9971590909090908\n",
      "Training accuracy: 0.9972222222222222\n",
      "Validation ROC AUC: 0.8400781589231437\n",
      "Validation accuracy: 0.8395833333333333\n",
      "True positives: 200\n",
      "False positives: 32\n",
      "True negatives: 203\n",
      "False negatives: 45\n"
     ]
    }
   ],
   "source": [
    "# Model 7: CountVectorizer with ExtraTrees\n",
    "pipe_params = {\n",
    "    'cvec__max_df':[0.85, 0.9],\n",
    "    'cvec__min_df':[2,3],\n",
    "    'cvec__max_features':[2000,5000,8000],\n",
    "    'cvec__ngram_range':[(1,1),(1,2)],\n",
    "    'cvec__stop_words':[['stocks','options','stock','option']],\n",
    "    'et__n_estimators':[100,200],\n",
    "    'et__max_depth':[None,3,5],\n",
    "    'et__min_samples_leaf':[2,5]\n",
    "}\n",
    "\n",
    "et_cvec_cv = gscv_creator('cvec', 'et', pipe_params)\n",
    "et_cvec_cv.fit(X_train, y_train)\n",
    "gscv_result_printer(et_cvec_cv, X_val, y_val)"
   ]
  },
  {
   "cell_type": "code",
   "execution_count": 77,
   "metadata": {},
   "outputs": [
    {
     "name": "stdout",
     "output_type": "stream",
     "text": [
      "Fitting 5 folds for each of 648 candidates, totalling 3240 fits\n"
     ]
    },
    {
     "name": "stderr",
     "output_type": "stream",
     "text": [
      "[Parallel(n_jobs=-1)]: Using backend LokyBackend with 8 concurrent workers.\n",
      "[Parallel(n_jobs=-1)]: Done  34 tasks      | elapsed:   30.6s\n",
      "[Parallel(n_jobs=-1)]: Done 184 tasks      | elapsed:  2.4min\n",
      "[Parallel(n_jobs=-1)]: Done 434 tasks      | elapsed:  5.3min\n",
      "[Parallel(n_jobs=-1)]: Done 784 tasks      | elapsed:  8.8min\n",
      "[Parallel(n_jobs=-1)]: Done 1234 tasks      | elapsed: 13.2min\n",
      "[Parallel(n_jobs=-1)]: Done 1784 tasks      | elapsed: 17.6min\n",
      "[Parallel(n_jobs=-1)]: Done 2434 tasks      | elapsed: 22.0min\n",
      "[Parallel(n_jobs=-1)]: Done 3184 tasks      | elapsed: 27.1min\n",
      "[Parallel(n_jobs=-1)]: Done 3240 out of 3240 | elapsed: 27.5min finished\n"
     ]
    },
    {
     "name": "stdout",
     "output_type": "stream",
     "text": [
      "Best CV score: 0.8701388888888889\n",
      "Best params: {'et__max_depth': None, 'et__min_samples_leaf': 2, 'et__n_estimators': 200, 'tvec__max_df': 0.85, 'tvec__max_features': 2000, 'tvec__min_df': 2, 'tvec__ngram_range': (1, 3), 'tvec__stop_words': ['stocks', 'options', 'stock', 'option', 'preview', 'redd', 'format', 'auto', 'png', 'reddit', 'http', 'https', 'www', 'com', 'amp', 'automoderator']}\n",
      "----------\n",
      "Training ROC AUC: 0.9978693181818181\n",
      "Training accuracy: 0.9979166666666667\n",
      "Validation ROC AUC: 0.8695180199739471\n",
      "Validation accuracy: 0.86875\n",
      "True positives: 204\n",
      "False positives: 22\n",
      "True negatives: 213\n",
      "False negatives: 41\n"
     ]
    }
   ],
   "source": [
    "# Model 8: TfidfVectorizer with ExtraTrees\n",
    "pipe_params = {\n",
    "    'tvec__max_df':[0.85, 0.8, 0.9],\n",
    "    'tvec__min_df':[1,2,3],\n",
    "    'tvec__max_features':[2000,5000,8000],\n",
    "    'tvec__ngram_range':[(1,2),(1,3),(1,4)],\n",
    "    'tvec__stop_words':[['stocks','options','stock','option']],\n",
    "    'et__n_estimators':[300,200],\n",
    "    'et__max_depth':[None,3],\n",
    "    'et__min_samples_leaf':[2,4]\n",
    "}\n",
    "\n",
    "et_tvec_cv = gscv_creator('tvec', 'et', pipe_params)\n",
    "et_tvec_cv.fit(X_train, y_train)\n",
    "gscv_result_printer(et_tvec_cv, X_val, y_val)"
   ]
  },
  {
   "cell_type": "markdown",
   "metadata": {},
   "source": [
    "All our tree-based models show a high degree of overfitting. Model 8, our ExtraTreesClassifier with tvec, gave us highest validation accuracy, although not by much, so we tried again to iterate over Model 8 with different parameters, but it did not produce any better results. Model 8 can be considered to be our 'best' tree model, so we'll keep it for now to compare against our Logistic Regression and MultinomialNB models later."
   ]
  },
  {
   "cell_type": "markdown",
   "metadata": {},
   "source": [
    "#### Boosted trees\n",
    "Are RandomForests the best tree-based models we can use? Let's try out AdaBoost and GradientBoost classifiers. Based on our earlier results, we will use the same TfidfVectorizer from Model 6 in conjunction with our 2 boosted tree models."
   ]
  },
  {
   "cell_type": "code",
   "execution_count": 76,
   "metadata": {},
   "outputs": [
    {
     "name": "stdout",
     "output_type": "stream",
     "text": [
      "Fitting 5 folds for each of 192 candidates, totalling 960 fits\n"
     ]
    },
    {
     "name": "stderr",
     "output_type": "stream",
     "text": [
      "[Parallel(n_jobs=-1)]: Using backend LokyBackend with 8 concurrent workers.\n",
      "[Parallel(n_jobs=-1)]: Done  34 tasks      | elapsed:   23.5s\n",
      "[Parallel(n_jobs=-1)]: Done 184 tasks      | elapsed:  2.3min\n",
      "[Parallel(n_jobs=-1)]: Done 434 tasks      | elapsed:  5.6min\n",
      "[Parallel(n_jobs=-1)]: Done 784 tasks      | elapsed: 12.5min\n",
      "[Parallel(n_jobs=-1)]: Done 960 out of 960 | elapsed: 16.7min finished\n"
     ]
    },
    {
     "name": "stdout",
     "output_type": "stream",
     "text": [
      "Best CV score: 0.8354166666666666\n",
      "Best params: {'ada__base_estimator__max_depth': 1, 'ada__learning_rate': 0.9, 'ada__n_estimators': 300, 'tvec__max_df': 0.85, 'tvec__max_features': 5000, 'tvec__min_df': 3, 'tvec__ngram_range': (1, 2), 'tvec__stop_words': ['stocks', 'options', 'stock', 'option']}\n",
      "----------\n",
      "Training ROC AUC: 1.0\n",
      "Training accuracy: 1.0\n",
      "Validation ROC AUC: 0.814980460269214\n",
      "Validation accuracy: 0.8145833333333333\n",
      "True positives: 195\n",
      "False positives: 39\n",
      "True negatives: 196\n",
      "False negatives: 50\n"
     ]
    }
   ],
   "source": [
    "# Model 9: TfidfVectorizer with AdaBoost\n",
    "pipe_params = {\n",
    "    'tvec__max_df':[0.85, 0.9],\n",
    "    'tvec__min_df':[2,3],\n",
    "    'tvec__max_features':[2000,5000,8000],\n",
    "    'tvec__ngram_range':[(1,1),(1,2)],\n",
    "    'tvec__stop_words':[['stocks','options','stock','option']],\n",
    "    'ada__n_estimators':[200,300],\n",
    "    'ada__base_estimator__max_depth':[1,2],\n",
    "    'ada__learning_rate':[0.9,0.5]\n",
    "}\n",
    "\n",
    "ada_tvec_cv = gscv_creator('tvec', 'ada', pipe_params)\n",
    "ada_tvec_cv.fit(X_train, y_train)\n",
    "gscv_result_printer(ada_tvec_cv, X_val, y_val)"
   ]
  },
  {
   "cell_type": "code",
   "execution_count": 75,
   "metadata": {},
   "outputs": [
    {
     "name": "stdout",
     "output_type": "stream",
     "text": [
      "Fitting 5 folds for each of 192 candidates, totalling 960 fits\n"
     ]
    },
    {
     "name": "stderr",
     "output_type": "stream",
     "text": [
      "[Parallel(n_jobs=-1)]: Using backend LokyBackend with 8 concurrent workers.\n",
      "[Parallel(n_jobs=-1)]: Done  34 tasks      | elapsed:   21.9s\n",
      "[Parallel(n_jobs=-1)]: Done 184 tasks      | elapsed:  2.0min\n",
      "[Parallel(n_jobs=-1)]: Done 434 tasks      | elapsed:  5.9min\n",
      "[Parallel(n_jobs=-1)]: Done 784 tasks      | elapsed: 10.2min\n",
      "[Parallel(n_jobs=-1)]: Done 960 out of 960 | elapsed: 13.2min finished\n"
     ]
    },
    {
     "name": "stdout",
     "output_type": "stream",
     "text": [
      "Best CV score: 0.8493055555555555\n",
      "Best params: {'gb__learning_rate': 0.5, 'gb__max_depth': 2, 'gb__n_estimators': 300, 'tvec__max_df': 0.85, 'tvec__max_features': 2000, 'tvec__min_df': 2, 'tvec__ngram_range': (1, 1), 'tvec__stop_words': ['stocks', 'options', 'stock', 'option']}\n",
      "----------\n",
      "Training ROC AUC: 1.0\n",
      "Training accuracy: 1.0\n",
      "Validation ROC AUC: 0.8635692574902302\n",
      "Validation accuracy: 0.8625\n",
      "True positives: 199\n",
      "False positives: 20\n",
      "True negatives: 215\n",
      "False negatives: 46\n"
     ]
    }
   ],
   "source": [
    "# Model 10: TfidfVectorizer with GradientBoost\n",
    "pipe_params = {\n",
    "    'tvec__max_df':[0.85, 0.9],\n",
    "    'tvec__min_df':[2,3],\n",
    "    'tvec__max_features':[2000,5000,8000],\n",
    "    'tvec__ngram_range':[(1,1),(1,2)],\n",
    "    'tvec__stop_words':[['stocks','options','stock','option']],\n",
    "    'gb__n_estimators':[200,300],\n",
    "    'gb__max_depth':[1,2],\n",
    "    'gb__learning_rate':[0.9,0.5]\n",
    "}\n",
    "\n",
    "gb_tvec_cv = gscv_creator('tvec', 'gb', pipe_params)\n",
    "gb_tvec_cv.fit(X_train, y_train)\n",
    "gscv_result_printer(gb_tvec_cv, X_val, y_val)"
   ]
  },
  {
   "cell_type": "markdown",
   "metadata": {},
   "source": [
    "Both our boosted models gave us very overfit scores and accuracies not much better than our other tree models. We'll disregard the use of these models and focus on Model 8 as our best tree model."
   ]
  },
  {
   "cell_type": "markdown",
   "metadata": {},
   "source": [
    "## Evaluation of models\n",
    "To recap, we explored 2 different vectorizers and 6 different estimators - 2 parametric models, 2 tree-based non-parametric models, and 2 more boosted tree models. For all except the boosted tree models, we ran a model on each combination of vectorizer and estimator, and compared the results of each type of estimator within its own class. For boosted tree models, we ran them with TfidfVectorizer. Below are the results from the best performing model in each class so far, minus the boosted tree models.\n",
    "\n",
    "|Vectorizer|Estimator|Train accuracy|Validation accuracy|Train ROCAUC|Validation ROCAUC|\n",
    "|---|---|---|---|---|---|\n",
    "|tvec|Logistic Regression|0.936|0.881|0.937|0.882\n",
    "|tvec|Multinomial NB|0.939|0.869|0.939|0.869\n",
    "|tvec|ExtraTreesClassifier|0.998|0.869|0.998|0.87\n",
    "\n",
    "We found that all 3 models, using the TfidVectorizer gave us the least overfitting for our set of data. Comparing these 3 models together, it is clear that the LogisticRegression model with TfidfVectorizer produces by far the best result. It is the least overfit model, and it produces the highest validation accuracy. Hence, we will use this model as our classifier. Let's analyse the results returned to us by this model."
   ]
  },
  {
   "cell_type": "code",
   "execution_count": 10,
   "metadata": {},
   "outputs": [
    {
     "name": "stdout",
     "output_type": "stream",
     "text": [
      "Fitting 5 folds for each of 1 candidates, totalling 5 fits\n"
     ]
    },
    {
     "name": "stderr",
     "output_type": "stream",
     "text": [
      "[Parallel(n_jobs=-1)]: Using backend LokyBackend with 8 concurrent workers.\n",
      "[Parallel(n_jobs=-1)]: Done   2 out of   5 | elapsed:    4.7s remaining:    7.1s\n",
      "[Parallel(n_jobs=-1)]: Done   5 out of   5 | elapsed:    4.7s finished\n"
     ]
    },
    {
     "name": "stdout",
     "output_type": "stream",
     "text": [
      "Best CV score: 0.8756944444444447\n",
      "Best params: {'lr__solver': 'saga', 'tvec__max_df': 0.8, 'tvec__max_features': 3000, 'tvec__min_df': 2, 'tvec__ngram_range': (1, 3), 'tvec__stop_words': ['stocks', 'options', 'stock', 'option']}\n",
      "----------\n",
      "Training ROC AUC: 0.9366353754940712\n",
      "Training accuracy: 0.9361111111111111\n",
      "Validation ROC AUC: 0.8820234476769431\n",
      "Validation accuracy: 0.88125\n",
      "True positives: 207\n",
      "False positives: 19\n",
      "True negatives: 216\n",
      "False negatives: 38\n"
     ]
    }
   ],
   "source": [
    "# Final Model: TfIDFVectorizer with Logistic Regression\n",
    "# we get these optimal parameters from our previous iteration\n",
    "# we remove the parameters related to elasticnet penalty as our gridsearching showed that default l2 was best.\n",
    "# we technically don't need to use gridsearchcv for this, but since we already have a convenience function prepared,\n",
    "# we can use the output as our optimal estimator directly\n",
    "\n",
    "pipe_params = {\n",
    "    'tvec__max_df':[0.8],\n",
    "    'tvec__min_df':[2],\n",
    "    'tvec__max_features':[3000],\n",
    "    'tvec__ngram_range':[(1,3)],\n",
    "    'tvec__stop_words':[['stocks','options','stock','option']],\n",
    "\n",
    "    'lr__solver': ['saga']\n",
    "}\n",
    "\n",
    "lr_tvec_cv = gscv_creator('tvec', 'lr', pipe_params)\n",
    "lr_tvec_cv.fit(X_train, y_train)\n",
    "gscv_result_printer(lr_tvec_cv, X_val, y_val)"
   ]
  },
  {
   "cell_type": "markdown",
   "metadata": {},
   "source": [
    "These are the final parameters used for our optimal Logistic Regression + TfidfVectorizer model, as well as the metrics it returns us. ROC AUC and accuracy scores are extremely close, as is expected due to our balanced classes, and our model only overfits by about 5%, which is very respectable, while still returning a validation accuracy of 88%. We should be quite satisfied with this model."
   ]
  },
  {
   "cell_type": "code",
   "execution_count": 13,
   "metadata": {},
   "outputs": [],
   "source": [
    "# we can extract the estimator direct from the gridsearchcv object.\n",
    "best_lr = lr_tvec_cv.best_estimator_"
   ]
  },
  {
   "cell_type": "markdown",
   "metadata": {},
   "source": [
    "### Interpretation of model results\n",
    "Let's take a look at what our model thought were the most important features for predicting each class. When we extract the coefficients for each feature from LogisticRegression, what we are getting back are the coefficients for the log odds of success for the positive class. Below is the formula used in logistic regression.\n",
    "$$\\log\\bigg(\\frac{P(Y=1)}{1-P(Y=1)}\\bigg) = \\beta_0 + \\beta_1X_1 + \\beta_2X_2 + \\cdots + \\beta_pX_p$$\n",
    "\n",
    "For each increase in $X_1$, the log odds of something belonging to the positive class increases by the value of the coefficient. To make this understandable, we exponentiate our coefficients first, and then we know that our odds of success increases by $e^{\\beta_1}$ times for each increase in $X_1$.\n",
    "\n",
    "But what about the odds of something belonging to the negative class? Since we are interested in knowing what words are more likely to signal r/options and also which are more likely to signal r/stocks, we also want to interpret the coefficients in terms of the negative class. A simple example would be, if something causes the positive class to be 10 times more likely, it must cause the negative class to be 10 times *less* likely. In other words, the odds of the positive class being true are **inversely related** to the odds of the negative class being true. To obtain the odds of the negative class being true, we can simply take the inverse of the coefficients returned to us by logistic regression."
   ]
  },
  {
   "cell_type": "code",
   "execution_count": 17,
   "metadata": {},
   "outputs": [
    {
     "data": {
      "text/html": [
       "<div>\n",
       "<style scoped>\n",
       "    .dataframe tbody tr th:only-of-type {\n",
       "        vertical-align: middle;\n",
       "    }\n",
       "\n",
       "    .dataframe tbody tr th {\n",
       "        vertical-align: top;\n",
       "    }\n",
       "\n",
       "    .dataframe thead th {\n",
       "        text-align: right;\n",
       "    }\n",
       "</style>\n",
       "<table border=\"1\" class=\"dataframe tex2jax_ignore\">\n",
       "  <thead>\n",
       "    <tr style=\"text-align: right;\">\n",
       "      <th></th>\n",
       "      <th>feature</th>\n",
       "      <th>coef</th>\n",
       "    </tr>\n",
       "  </thead>\n",
       "  <tbody>\n",
       "    <tr>\n",
       "      <th>468</th>\n",
       "      <td>call</td>\n",
       "      <td>223.616727</td>\n",
       "    </tr>\n",
       "    <tr>\n",
       "      <th>2143</th>\n",
       "      <td>put</td>\n",
       "      <td>13.213927</td>\n",
       "    </tr>\n",
       "    <tr>\n",
       "      <th>1539</th>\n",
       "      <td>leap</td>\n",
       "      <td>12.632883</td>\n",
       "    </tr>\n",
       "    <tr>\n",
       "      <th>1475</th>\n",
       "      <td>iv</td>\n",
       "      <td>8.333101</td>\n",
       "    </tr>\n",
       "    <tr>\n",
       "      <th>2582</th>\n",
       "      <td>strike</td>\n",
       "      <td>8.279623</td>\n",
       "    </tr>\n",
       "    <tr>\n",
       "      <th>2055</th>\n",
       "      <td>premium</td>\n",
       "      <td>6.911008</td>\n",
       "    </tr>\n",
       "    <tr>\n",
       "      <th>2576</th>\n",
       "      <td>strategy</td>\n",
       "      <td>6.767327</td>\n",
       "    </tr>\n",
       "    <tr>\n",
       "      <th>2529</th>\n",
       "      <td>spread</td>\n",
       "      <td>4.725160</td>\n",
       "    </tr>\n",
       "    <tr>\n",
       "      <th>715</th>\n",
       "      <td>cover call</td>\n",
       "      <td>4.452041</td>\n",
       "    </tr>\n",
       "    <tr>\n",
       "      <th>676</th>\n",
       "      <td>contract</td>\n",
       "      <td>4.086780</td>\n",
       "    </tr>\n",
       "    <tr>\n",
       "      <th>2756</th>\n",
       "      <td>trade</td>\n",
       "      <td>3.970452</td>\n",
       "    </tr>\n",
       "    <tr>\n",
       "      <th>2018</th>\n",
       "      <td>play</td>\n",
       "      <td>3.614512</td>\n",
       "    </tr>\n",
       "    <tr>\n",
       "      <th>1473</th>\n",
       "      <td>itm</td>\n",
       "      <td>3.549112</td>\n",
       "    </tr>\n",
       "    <tr>\n",
       "      <th>1920</th>\n",
       "      <td>otm</td>\n",
       "      <td>3.438016</td>\n",
       "    </tr>\n",
       "    <tr>\n",
       "      <th>714</th>\n",
       "      <td>cover</td>\n",
       "      <td>3.389675</td>\n",
       "    </tr>\n",
       "    <tr>\n",
       "      <th>1036</th>\n",
       "      <td>expire</td>\n",
       "      <td>3.348959</td>\n",
       "    </tr>\n",
       "    <tr>\n",
       "      <th>1016</th>\n",
       "      <td>exercise</td>\n",
       "      <td>3.331418</td>\n",
       "    </tr>\n",
       "    <tr>\n",
       "      <th>1034</th>\n",
       "      <td>expiration</td>\n",
       "      <td>3.200313</td>\n",
       "    </tr>\n",
       "    <tr>\n",
       "      <th>2479</th>\n",
       "      <td>sndl</td>\n",
       "      <td>3.168640</td>\n",
       "    </tr>\n",
       "    <tr>\n",
       "      <th>1089</th>\n",
       "      <td>feb</td>\n",
       "      <td>3.124682</td>\n",
       "    </tr>\n",
       "  </tbody>\n",
       "</table>\n",
       "</div>"
      ],
      "text/plain": [
       "         feature        coef\n",
       "468         call  223.616727\n",
       "2143         put   13.213927\n",
       "1539        leap   12.632883\n",
       "1475          iv    8.333101\n",
       "2582      strike    8.279623\n",
       "2055     premium    6.911008\n",
       "2576    strategy    6.767327\n",
       "2529      spread    4.725160\n",
       "715   cover call    4.452041\n",
       "676     contract    4.086780\n",
       "2756       trade    3.970452\n",
       "2018        play    3.614512\n",
       "1473         itm    3.549112\n",
       "1920         otm    3.438016\n",
       "714        cover    3.389675\n",
       "1036      expire    3.348959\n",
       "1016    exercise    3.331418\n",
       "1034  expiration    3.200313\n",
       "2479        sndl    3.168640\n",
       "1089         feb    3.124682"
      ]
     },
     "execution_count": 17,
     "metadata": {},
     "output_type": "execute_result"
    }
   ],
   "source": [
    "# table of odds for r/options\n",
    "success_odds_class_1 = pd.DataFrame({'feature': best_lr['tvec'].get_feature_names(),\n",
    "                            'coef': np.exp(best_lr['lr'].coef_[0])}).sort_values(by='coef',ascending=False)\n",
    "success_odds_class_1.head(20)"
   ]
  },
  {
   "cell_type": "markdown",
   "metadata": {},
   "source": [
    "Interpretation of coefficients:\n",
    "\n",
    "For a unit increase in the feature `call`, the odds of a post belonging to r/options increases by 223.6 times.\n",
    "\n",
    "For a unit increase in the feature `put`, the odds of a post belonging to r/options increases by 13.2 times.\n",
    "\n",
    "And so on."
   ]
  },
  {
   "cell_type": "code",
   "execution_count": 18,
   "metadata": {
    "scrolled": false
   },
   "outputs": [
    {
     "data": {
      "text/html": [
       "<div>\n",
       "<style scoped>\n",
       "    .dataframe tbody tr th:only-of-type {\n",
       "        vertical-align: middle;\n",
       "    }\n",
       "\n",
       "    .dataframe tbody tr th {\n",
       "        vertical-align: top;\n",
       "    }\n",
       "\n",
       "    .dataframe thead th {\n",
       "        text-align: right;\n",
       "    }\n",
       "</style>\n",
       "<table border=\"1\" class=\"dataframe tex2jax_ignore\">\n",
       "  <thead>\n",
       "    <tr style=\"text-align: right;\">\n",
       "      <th></th>\n",
       "      <th>feature</th>\n",
       "      <th>coef</th>\n",
       "    </tr>\n",
       "  </thead>\n",
       "  <tbody>\n",
       "    <tr>\n",
       "      <th>1460</th>\n",
       "      <td>invest</td>\n",
       "      <td>15.938898</td>\n",
       "    </tr>\n",
       "    <tr>\n",
       "      <th>615</th>\n",
       "      <td>company</td>\n",
       "      <td>13.808670</td>\n",
       "    </tr>\n",
       "    <tr>\n",
       "      <th>1677</th>\n",
       "      <td>market</td>\n",
       "      <td>5.989180</td>\n",
       "    </tr>\n",
       "    <tr>\n",
       "      <th>1463</th>\n",
       "      <td>investor</td>\n",
       "      <td>5.738279</td>\n",
       "    </tr>\n",
       "    <tr>\n",
       "      <th>2977</th>\n",
       "      <td>year</td>\n",
       "      <td>5.632291</td>\n",
       "    </tr>\n",
       "    <tr>\n",
       "      <th>1981</th>\n",
       "      <td>people</td>\n",
       "      <td>5.006167</td>\n",
       "    </tr>\n",
       "    <tr>\n",
       "      <th>1824</th>\n",
       "      <td>news</td>\n",
       "      <td>3.451352</td>\n",
       "    </tr>\n",
       "    <tr>\n",
       "      <th>980</th>\n",
       "      <td>etf</td>\n",
       "      <td>3.272495</td>\n",
       "    </tr>\n",
       "    <tr>\n",
       "      <th>50</th>\n",
       "      <td>2020</td>\n",
       "      <td>2.719009</td>\n",
       "    </tr>\n",
       "    <tr>\n",
       "      <th>2281</th>\n",
       "      <td>revenue</td>\n",
       "      <td>2.645738</td>\n",
       "    </tr>\n",
       "    <tr>\n",
       "      <th>2413</th>\n",
       "      <td>share</td>\n",
       "      <td>2.628075</td>\n",
       "    </tr>\n",
       "    <tr>\n",
       "      <th>1362</th>\n",
       "      <td>huge</td>\n",
       "      <td>2.541764</td>\n",
       "    </tr>\n",
       "    <tr>\n",
       "      <th>373</th>\n",
       "      <td>billion</td>\n",
       "      <td>2.501729</td>\n",
       "    </tr>\n",
       "    <tr>\n",
       "      <th>2695</th>\n",
       "      <td>thing</td>\n",
       "      <td>2.465762</td>\n",
       "    </tr>\n",
       "    <tr>\n",
       "      <th>1643</th>\n",
       "      <td>make</td>\n",
       "      <td>2.447001</td>\n",
       "    </tr>\n",
       "    <tr>\n",
       "      <th>1462</th>\n",
       "      <td>investment</td>\n",
       "      <td>2.434133</td>\n",
       "    </tr>\n",
       "    <tr>\n",
       "      <th>988</th>\n",
       "      <td>even</td>\n",
       "      <td>2.416711</td>\n",
       "    </tr>\n",
       "    <tr>\n",
       "      <th>1466</th>\n",
       "      <td>ipo</td>\n",
       "      <td>2.339364</td>\n",
       "    </tr>\n",
       "    <tr>\n",
       "      <th>275</th>\n",
       "      <td>arkk</td>\n",
       "      <td>2.315116</td>\n",
       "    </tr>\n",
       "    <tr>\n",
       "      <th>1616</th>\n",
       "      <td>lot</td>\n",
       "      <td>2.289530</td>\n",
       "    </tr>\n",
       "  </tbody>\n",
       "</table>\n",
       "</div>"
      ],
      "text/plain": [
       "         feature       coef\n",
       "1460      invest  15.938898\n",
       "615      company  13.808670\n",
       "1677      market   5.989180\n",
       "1463    investor   5.738279\n",
       "2977        year   5.632291\n",
       "1981      people   5.006167\n",
       "1824        news   3.451352\n",
       "980          etf   3.272495\n",
       "50          2020   2.719009\n",
       "2281     revenue   2.645738\n",
       "2413       share   2.628075\n",
       "1362        huge   2.541764\n",
       "373      billion   2.501729\n",
       "2695       thing   2.465762\n",
       "1643        make   2.447001\n",
       "1462  investment   2.434133\n",
       "988         even   2.416711\n",
       "1466         ipo   2.339364\n",
       "275         arkk   2.315116\n",
       "1616         lot   2.289530"
      ]
     },
     "execution_count": 18,
     "metadata": {},
     "output_type": "execute_result"
    }
   ],
   "source": [
    "# table of odds for r/stocks\n",
    "success_odds_class_0 = pd.DataFrame({'feature': best_lr['tvec'].get_feature_names(),\n",
    "                            'coef': (np.exp(best_lr['lr'].coef_[0]))**-1})\\\n",
    "                            .sort_values(by='coef',ascending=False)\n",
    "success_odds_class_0.head(20)"
   ]
  },
  {
   "cell_type": "markdown",
   "metadata": {},
   "source": [
    "Interpretation of coefficients:\n",
    "\n",
    "For a unit increase in the feature `invest`, the odds of a post belonging to r/stocks increases by 15.9 times.\n",
    "\n",
    "For a unit increase in the feature `company`, the odds of a post belonging to r/stocks increases by 13.8 times.\n",
    "\n",
    "And so on.\n",
    "***\n",
    "Let's visualize these coefficients."
   ]
  },
  {
   "cell_type": "code",
   "execution_count": 175,
   "metadata": {},
   "outputs": [
    {
     "data": {
      "image/png": "[encoded data removed]",
      "text/plain": [
       "<Figure size 1152x864 with 2 Axes>"
      ]
     },
     "metadata": {
      "needs_background": "light"
     },
     "output_type": "display_data"
    }
   ],
   "source": [
    "fig, (ax1, ax2) = plt.subplots(1,2, figsize=(16,12))\n",
    "\n",
    "# create graph for r/options top features\n",
    "g = sns.barplot(data = success_odds_class_1.head(20), x='coef', y='feature', ax=ax1, palette = 'Greens_r')\n",
    "g.set_title('Top 20 most important words in r/options',fontsize=20)\n",
    "g.set_xlabel('Odds of belonging to r/options'), g.set_ylabel('')\n",
    "g.tick_params(axis='both', labelsize=15)\n",
    "\n",
    "# create graph for r/stocks top features\n",
    "h = sns.barplot(data = success_odds_class_0.head(20), x='coef', y='feature', palette = 'Reds_r')\n",
    "h.set_title('Top 20 most important words in r/stocks',fontsize=20)\n",
    "h.set_xlabel('Odds of belonging to r/stocks'), h.set_ylabel('')\n",
    "h.tick_params(axis='both', labelsize=15);"
   ]
  },
  {
   "cell_type": "markdown",
   "metadata": {},
   "source": [
    "The graph above shows the most important features for each subreddit. The word `call` has a notably outsized importance when used to predict r/options. While we are not surprised that `call` is an important feature, its magnitude is a bit perplexing. It should be noted that even though the best n-gram range chosen by GridSearch was (1,3), the most important features are almost all 1-grams."
   ]
  },
  {
   "cell_type": "markdown",
   "metadata": {},
   "source": [
    "### Analysis of important features \n",
    "Similar to what we saw in our EDA, option trading specific terms have strong power in predicting what posts come from r/options. This supports our earlier thesis that option traders are very technical in their trading style, preferring to focus on option specific strategies in their discussions. As well, there is evidence of heavy use of jargon. This is shown by the fact that terms like `iv`, `premium`, `cover call` and such are in the top 20 terms. These are concepts that are very specific to options trading, indicating that option traders talk about distinctly different concepts and trends than stock traders. This could be happening even if both traders happen to be trading on Apple securities, for example.\n",
    "\n",
    "For r/stocks, we see that features such as `invest`, `company`, `market` are important in predicting posts that come from r/stocks. These suggest that stock traders as a whole prefer to engage in more high-level, fundamental discussion, rather than using specific technical terms to discuss their trading ideas. One observation we can make is that stock traders are more interested in a certain class of stocks called Exchange Traded Funds, or ETFs, as can be seen from the feature `etf` and `arkk` which is the name of one of the most popular ETFs on the market now. These funds provide an investor a way to gain exposure to a larger basket of companies by just investing in that ETF, and are a popular vehicle among stock traders more so than option traders. We also see `ipo` listed here, which makes sense, as Initial Public Offerings are purely a means for a company begin offering their stock to the public on an exchange. You can't trade options on stocks that don't yet exist on public float.\n",
    "\n",
    "One thing I was hoping to see more of were names of specific companies. Knowing what companies or securities are currently trending in a particular social media space is incredibly useful information for anyone trying to make an informed trading decision, as retail sentiment can be a powerful tool in forecasting price and volume movements. There are even hedge funds now that run sentiment analysis on social media threads in order to stay ahead of retail traders. If we were able to identify whether certain companies were currently more popular among stocks vs options traders, that would add another layer of usefulness to our classifier. We will explore this later on in our [recommendations](#Conclusions-and-recommendations)."
   ]
  },
  {
   "cell_type": "markdown",
   "metadata": {},
   "source": [
    "## Further discussion\n",
    "### False Positives and False Negatives\n",
    "To better understand the shortcomings of our classifier, we should examine our False Positives and Negatives. A confusion matrix visually represents the counts of our True Positives/Negatives and False Positives/Negatives."
   ]
  },
  {
   "cell_type": "code",
   "execution_count": 64,
   "metadata": {},
   "outputs": [
    {
     "data": {
      "image/png": "[encoded data removed]",
      "text/plain": [
       "<Figure size 576x432 with 2 Axes>"
      ]
     },
     "metadata": {
      "needs_background": "light"
     },
     "output_type": "display_data"
    }
   ],
   "source": [
    "plot_confusion_matrix(best_lr, X_val, y_val, cmap='Blues', values_format='d')\n",
    "plt.xlabel('Predicted'), plt.xticks((0,1),labels=['Stocks','Options'])\n",
    "plt.ylabel('Actual'), plt.yticks((0,1),labels=['Stocks','Options'])\n",
    "plt.title('Confusion Matrix of Logistic Regression classifier');"
   ]
  },
  {
   "cell_type": "markdown",
   "metadata": {},
   "source": [
    "By plotting this confusion matrix, we are able to observe that we have more false negatives than positives. We are falsely predicting a post to be from r/stocks when it actually is from r/options, at almost twice the rate that we falsely predict the opposite. This begs the question, \"why is our classifier worse at classifying r/options posts as opposed to r/stocks posts?\"\n",
    "\n",
    "To answer that, let's look at this diagram below.\n",
    "\n",
    "![!](./images/options_stocks_venn.png)\n",
    "\n",
    "This diagram shows some concepts representative of either stock trading, option trading, or both. Here we are trying to portray options as an offshoot of stocks. This is because options are a financial derivative of stocks. They came from stocks, and as such they inherit many real constructs and concepts from stocks, such price movement and trading volume. At the same time, they have also developed their own unique set of concepts, such as the idea of moneyness, which is what OTM (Out of the Money) and ITM (In the Money) refer to. This idea is unique to options, as it represents the value of an option, which is divorced from the actual value of the underlying stock. So there is a disconnect between certain unique options concepts and other concepts that have a place in both options and stock trading. This means that when a post contains features representing these concepts, like as we saw earlier when examining feature importance, features like `call` make it >200 times more likely that the post containing that feature belongs to r/options. Looking back at the table of odds above, the top features from r/options all have odds above 3, whereas for those from r/stocks, more than half of them have odds below 3. In other words, the top features from r/options are **more predictive** of r/options than the top features from r/stocks are of r/stocks. \n",
    "\n",
    "Therefore, when a post contains any of these uniquely options-centric features, it is easy for our classifier to know that they come from r/options. The problem, as we will see below in our misclassified posts, is when these posts no longer bear any of these distinct features. When this happens we can see that our classifier quite *severely* misclassifies these r/options posts as belonging to r/stocks. The top 3 false negatives were predicted by our classifier to have more than 80% chance to come from r/stocks. In contrast when our classifier misclassifies r/stocks posts as belonging to r/options, the predicted probability is a much more moderate 60-65%."
   ]
  },
  {
   "cell_type": "markdown",
   "metadata": {},
   "source": [
    "### Examining our misclassified posts\n",
    "Our next step should then be to examine the posts that our classifier failed to classify correctly. Since we are able to extract the predicted class probabilities for each observation from our model, we can look at the most severely misclassified posts to examine what it is about these posts that confused our model.\n",
    "\n",
    "Let's first examine our false negatives. These are posts that were predicted to be from r/stocks, but were actually from r/options. This is what our model is not so good at."
   ]
  },
  {
   "cell_type": "code",
   "execution_count": 19,
   "metadata": {},
   "outputs": [],
   "source": [
    "best_lr.fit(X_train,y_train)\n",
    "predictions = best_lr.predict(X_val)"
   ]
  },
  {
   "cell_type": "code",
   "execution_count": 20,
   "metadata": {},
   "outputs": [],
   "source": [
    "# extracts the predicted probabilities for each class, for each given observation\n",
    "class_0, class_1 = list(zip(*best_lr.predict_proba(X_val)))\n",
    "preds_df = pd.DataFrame({'actually_options': y_val,\n",
    "              'predicted_options': predictions,\n",
    "              'p_is_stocks': class_0,\n",
    "              'p_is_options': class_1})"
   ]
  },
  {
   "cell_type": "code",
   "execution_count": 80,
   "metadata": {
    "scrolled": false
   },
   "outputs": [
    {
     "data": {
      "text/html": [
       "<div>\n",
       "<style scoped>\n",
       "    .dataframe tbody tr th:only-of-type {\n",
       "        vertical-align: middle;\n",
       "    }\n",
       "\n",
       "    .dataframe tbody tr th {\n",
       "        vertical-align: top;\n",
       "    }\n",
       "\n",
       "    .dataframe thead th {\n",
       "        text-align: right;\n",
       "    }\n",
       "</style>\n",
       "<table border=\"1\" class=\"dataframe tex2jax_ignore\">\n",
       "  <thead>\n",
       "    <tr style=\"text-align: right;\">\n",
       "      <th></th>\n",
       "      <th>actually_options</th>\n",
       "      <th>predicted_options</th>\n",
       "      <th>p_is_stocks</th>\n",
       "      <th>p_is_options</th>\n",
       "    </tr>\n",
       "  </thead>\n",
       "  <tbody>\n",
       "    <tr>\n",
       "      <th>253</th>\n",
       "      <td>1</td>\n",
       "      <td>0</td>\n",
       "      <td>0.891329</td>\n",
       "      <td>0.108671</td>\n",
       "    </tr>\n",
       "    <tr>\n",
       "      <th>161</th>\n",
       "      <td>1</td>\n",
       "      <td>0</td>\n",
       "      <td>0.883211</td>\n",
       "      <td>0.116789</td>\n",
       "    </tr>\n",
       "    <tr>\n",
       "      <th>118</th>\n",
       "      <td>1</td>\n",
       "      <td>0</td>\n",
       "      <td>0.825933</td>\n",
       "      <td>0.174067</td>\n",
       "    </tr>\n",
       "    <tr>\n",
       "      <th>92</th>\n",
       "      <td>1</td>\n",
       "      <td>0</td>\n",
       "      <td>0.784184</td>\n",
       "      <td>0.215816</td>\n",
       "    </tr>\n",
       "    <tr>\n",
       "      <th>544</th>\n",
       "      <td>1</td>\n",
       "      <td>0</td>\n",
       "      <td>0.767706</td>\n",
       "      <td>0.232294</td>\n",
       "    </tr>\n",
       "  </tbody>\n",
       "</table>\n",
       "</div>"
      ],
      "text/plain": [
       "     actually_options  predicted_options  p_is_stocks  p_is_options\n",
       "253                 1                  0     0.891329      0.108671\n",
       "161                 1                  0     0.883211      0.116789\n",
       "118                 1                  0     0.825933      0.174067\n",
       "92                  1                  0     0.784184      0.215816\n",
       "544                 1                  0     0.767706      0.232294"
      ]
     },
     "execution_count": 80,
     "metadata": {},
     "output_type": "execute_result"
    }
   ],
   "source": [
    "# top 5 false negatives, i.e. actually options but predicted to be stocks\n",
    "preds_df[(preds_df['actually_options']==1) & (preds_df['predicted_options']==0)].sort_values(by='p_is_stocks',\n",
    "                                                                                             ascending=False).head()"
   ]
  },
  {
   "cell_type": "markdown",
   "metadata": {},
   "source": [
    "We can now look up the text for our top 5 misclassified posts using the index."
   ]
  },
  {
   "cell_type": "code",
   "execution_count": 87,
   "metadata": {},
   "outputs": [],
   "source": [
    "# printing all these posts at once takes up a lot of space\n",
    "# please run the below 2 cells to use lazy evaluation to print out 1 post at a time\n",
    "def lazy_post():\n",
    "    for post in df.loc[[253,161,118,92,544], 'all_text']:\n",
    "        yield post\n",
    "post = lazy_post()"
   ]
  },
  {
   "cell_type": "code",
   "execution_count": 92,
   "metadata": {
    "scrolled": true
   },
   "outputs": [
    {
     "data": {
      "text/plain": [
       "\"Do you stay away from companies that make a profit ? I see uber, lyft, mgm etc skyrocketing.\\n\\nCompanies like pepsi, ebay, Sony, etc dropping hard\\n\\nAre we in a market where old companies are no longer interesting 🤔 \\n\\nPeople are buying into uber.  Assuming they don't make a profit or declare a dividend ever, does anyone really care?\""
      ]
     },
     "execution_count": 92,
     "metadata": {},
     "output_type": "execute_result"
    }
   ],
   "source": [
    "# run this cell to lazily print out 1 post at a time\n",
    "next(post)"
   ]
  },
  {
   "cell_type": "markdown",
   "metadata": {},
   "source": [
    "Our most misclassified post is a long one, but essentially, the poster is presenting his due diligence on a company called Lucid. It contains information on key management personnel at the company, previous stock actions, his background research on the company as well as his thesis. This is a comprehensively written post that importantly, does not mention anything related to option trading at all, which led to our classifier severely underestimating the likelihood that this post was from r/options. \n",
    "\n",
    "In fact, looking posts 2-4, we see that they also engage in a great amount of fundamental analysis. The 4th one actually says \"for your option strategies\", but as option is our stopword, this got filtered out. These posts are generally referred to as due diligence, which as we saw above, is where a person lays out a particular investment thesis on a sector or company, along with fundamental and/or technical analysis to back up his thesis. The purposes of such posts are to engender discussion among other traders to either reaffirm a particular thesis or to provide new perspectives. In general, such posts are more representative of r/stocks, as we already know that r/stocks engages in more fundamental analysis that r/options. The 5th post is a short one asking for people's opinion on an observation he had made, without mentioning anything specific regarding option trading. Because it lacked predictors for r/options, but contained words such as profit, companies, dividend, this post does indeed sound like something that belongs to r/stocks. \n",
    "\n",
    "In short, these 5 posts we see are not explicitly options-centric, and contain content that is characteristically more similar to that found in r/stocks than r/options. We can thus see why our classifier was confused about these posts.\n",
    "***\n",
    "Now let's look at our false positives. These are posts predicted to be from r/options, but were actually from r/stocks. "
   ]
  },
  {
   "cell_type": "code",
   "execution_count": 93,
   "metadata": {},
   "outputs": [
    {
     "data": {
      "text/html": [
       "<div>\n",
       "<style scoped>\n",
       "    .dataframe tbody tr th:only-of-type {\n",
       "        vertical-align: middle;\n",
       "    }\n",
       "\n",
       "    .dataframe tbody tr th {\n",
       "        vertical-align: top;\n",
       "    }\n",
       "\n",
       "    .dataframe thead th {\n",
       "        text-align: right;\n",
       "    }\n",
       "</style>\n",
       "<table border=\"1\" class=\"dataframe tex2jax_ignore\">\n",
       "  <thead>\n",
       "    <tr style=\"text-align: right;\">\n",
       "      <th></th>\n",
       "      <th>actually_options</th>\n",
       "      <th>predicted_options</th>\n",
       "      <th>p_is_stocks</th>\n",
       "      <th>p_is_options</th>\n",
       "    </tr>\n",
       "  </thead>\n",
       "  <tbody>\n",
       "    <tr>\n",
       "      <th>1704</th>\n",
       "      <td>0</td>\n",
       "      <td>1</td>\n",
       "      <td>0.325793</td>\n",
       "      <td>0.674207</td>\n",
       "    </tr>\n",
       "    <tr>\n",
       "      <th>1341</th>\n",
       "      <td>0</td>\n",
       "      <td>1</td>\n",
       "      <td>0.378494</td>\n",
       "      <td>0.621506</td>\n",
       "    </tr>\n",
       "    <tr>\n",
       "      <th>1412</th>\n",
       "      <td>0</td>\n",
       "      <td>1</td>\n",
       "      <td>0.380833</td>\n",
       "      <td>0.619167</td>\n",
       "    </tr>\n",
       "    <tr>\n",
       "      <th>1595</th>\n",
       "      <td>0</td>\n",
       "      <td>1</td>\n",
       "      <td>0.404049</td>\n",
       "      <td>0.595951</td>\n",
       "    </tr>\n",
       "    <tr>\n",
       "      <th>1039</th>\n",
       "      <td>0</td>\n",
       "      <td>1</td>\n",
       "      <td>0.417147</td>\n",
       "      <td>0.582853</td>\n",
       "    </tr>\n",
       "  </tbody>\n",
       "</table>\n",
       "</div>"
      ],
      "text/plain": [
       "      actually_options  predicted_options  p_is_stocks  p_is_options\n",
       "1704                 0                  1     0.325793      0.674207\n",
       "1341                 0                  1     0.378494      0.621506\n",
       "1412                 0                  1     0.380833      0.619167\n",
       "1595                 0                  1     0.404049      0.595951\n",
       "1039                 0                  1     0.417147      0.582853"
      ]
     },
     "execution_count": 93,
     "metadata": {},
     "output_type": "execute_result"
    }
   ],
   "source": [
    "preds_df[(preds_df['actually_options']==0) & (preds_df['predicted_options']==1)].sort_values(by='p_is_options',\n",
    "                                                                                             ascending=False).head(5)"
   ]
  },
  {
   "cell_type": "markdown",
   "metadata": {},
   "source": [
    "From here we can look up the text from the index."
   ]
  },
  {
   "cell_type": "code",
   "execution_count": 117,
   "metadata": {},
   "outputs": [],
   "source": [
    "# printing all these posts at once is very long-winded.\n",
    "# please run the cell below this one to use lazy evaluation to print out 1 post at a time\n",
    "def lazy_post():\n",
    "    for post in df.loc[[1704,1341,1412,1595,1039], 'all_text']:\n",
    "        yield post\n",
    "post = lazy_post()"
   ]
  },
  {
   "cell_type": "code",
   "execution_count": 121,
   "metadata": {},
   "outputs": [
    {
     "data": {
      "text/plain": [
       "\"HUYA Available float vs short Hear me out\\n\\n* 97.5% of shares owned by institutional money (Tencent, MS and RenTech) - not actively trading\\n* Only 2.5% trading daily\\n* 30% of total float sold short.\\n\\nDisclaimer: I'm long. 179 shares @$32.\\n\\nEdit: Forgot to mention this is all possible since yesterday when MS and RenTech disclosed massive new positions.\""
      ]
     },
     "execution_count": 121,
     "metadata": {},
     "output_type": "execute_result"
    }
   ],
   "source": [
    "# run this cell to lazily print out 1 post at a time\n",
    "next(post)"
   ]
  },
  {
   "cell_type": "markdown",
   "metadata": {},
   "source": [
    "The 1st post is a short one asking for advice. Because it doesn't specifically mention a particular type of trading, it sounds so generic that it would easily fit in either subreddit. \n",
    "\n",
    "The 2nd post we look at was literally talking about options but yet was posted to r/stocks. This is clearly a case of someone misdirecting their post to the wrong sub. They would have been better off asking this in r/options instead. This shows that our classifier could also be used to detecting when posts are posted to the wrong subreddit.\n",
    "\n",
    "The 3rd post talks a lot about volatility. Volatility is actually a concept used more commonly in options trading, as the pricing of options is heavily influenced by two concepts - real volatility and implied volatility. Thus, reading this post on my own, I myself would probably have thought this came from r/options.\n",
    "\n",
    "The 4th and 5th post are short ones which do sound like they come from r/stocks. However, because 'stocks' is one of our stopwords which we removed, perhaps the remaining features remaining were insufficient for our classifier to discriminate. However, we do note that they contain a number of features that are more predictive of r/options posts, such as `short`, `put`, `trade`, and `premium`. Let's take a look at the coefficients for these features."
   ]
  },
  {
   "cell_type": "code",
   "execution_count": 124,
   "metadata": {},
   "outputs": [
    {
     "data": {
      "text/html": [
       "<div>\n",
       "<style scoped>\n",
       "    .dataframe tbody tr th:only-of-type {\n",
       "        vertical-align: middle;\n",
       "    }\n",
       "\n",
       "    .dataframe tbody tr th {\n",
       "        vertical-align: top;\n",
       "    }\n",
       "\n",
       "    .dataframe thead th {\n",
       "        text-align: right;\n",
       "    }\n",
       "</style>\n",
       "<table border=\"1\" class=\"dataframe tex2jax_ignore\">\n",
       "  <thead>\n",
       "    <tr style=\"text-align: right;\">\n",
       "      <th></th>\n",
       "      <th>feature</th>\n",
       "      <th>coef</th>\n",
       "    </tr>\n",
       "  </thead>\n",
       "  <tbody>\n",
       "    <tr>\n",
       "      <th>2143</th>\n",
       "      <td>put</td>\n",
       "      <td>13.213927</td>\n",
       "    </tr>\n",
       "    <tr>\n",
       "      <th>2055</th>\n",
       "      <td>premium</td>\n",
       "      <td>6.911008</td>\n",
       "    </tr>\n",
       "    <tr>\n",
       "      <th>2756</th>\n",
       "      <td>trade</td>\n",
       "      <td>3.970452</td>\n",
       "    </tr>\n",
       "    <tr>\n",
       "      <th>2427</th>\n",
       "      <td>short</td>\n",
       "      <td>2.829905</td>\n",
       "    </tr>\n",
       "  </tbody>\n",
       "</table>\n",
       "</div>"
      ],
      "text/plain": [
       "      feature       coef\n",
       "2143      put  13.213927\n",
       "2055  premium   6.911008\n",
       "2756    trade   3.970452\n",
       "2427    short   2.829905"
      ]
     },
     "execution_count": 124,
     "metadata": {},
     "output_type": "execute_result"
    }
   ],
   "source": [
    "success_odds_class_1[(success_odds_class_1['feature'].isin(['put','premium','short','trade']))]"
   ]
  },
  {
   "cell_type": "markdown",
   "metadata": {},
   "source": [
    "These words have quite large impact on the odds of a post belonging to r/options, hence we can understand why they may have been enough to slightly outweigh other features that are predictive of r/stocks. In fact, 3 of these features are our top 20 features for r/options. However, we should also note that our classifier was quite unsure of this decision, as the predicted probabilities for these 2 posts are below 60%, indicating that these posts contain a great deal of ambiguity.\n",
    "***\n",
    "In summary, our wrongly classified posts from r/options looked very much posts from r/stocks, whereas wrongly classified posts from r/stocks were either just posted to the wrong sub, or contained too much ambiguity due to the balance of certain features."
   ]
  },
  {
   "cell_type": "markdown",
   "metadata": {},
   "source": [
    "### Improving our model\n",
    "Now that we've identified possible reasons why our classifier is not performing as well on r/options posts, let's see if we can improve it. If we payed close attention to the probability tables above, we would have noticed that when our classifier misclassifies r/options posts, it **really** misclassifies them. The classifier was **more than 80%** confident that these top 3 misclassified r/options posts belonged to r/stocks. In contrast, when our classifier misclassified r/stocks posts, it was **at most 67%** sure for the worst 3 examples.\n",
    "\n",
    "Below shows the severe misclassification of our False Negatives."
   ]
  },
  {
   "cell_type": "code",
   "execution_count": 125,
   "metadata": {
    "scrolled": true
   },
   "outputs": [
    {
     "data": {
      "text/html": [
       "<div>\n",
       "<style scoped>\n",
       "    .dataframe tbody tr th:only-of-type {\n",
       "        vertical-align: middle;\n",
       "    }\n",
       "\n",
       "    .dataframe tbody tr th {\n",
       "        vertical-align: top;\n",
       "    }\n",
       "\n",
       "    .dataframe thead th {\n",
       "        text-align: right;\n",
       "    }\n",
       "</style>\n",
       "<table border=\"1\" class=\"dataframe tex2jax_ignore\">\n",
       "  <thead>\n",
       "    <tr style=\"text-align: right;\">\n",
       "      <th></th>\n",
       "      <th>actually_options</th>\n",
       "      <th>predicted_options</th>\n",
       "      <th>p_is_stocks</th>\n",
       "      <th>p_is_options</th>\n",
       "    </tr>\n",
       "  </thead>\n",
       "  <tbody>\n",
       "    <tr>\n",
       "      <th>253</th>\n",
       "      <td>1</td>\n",
       "      <td>0</td>\n",
       "      <td>0.891329</td>\n",
       "      <td>0.108671</td>\n",
       "    </tr>\n",
       "    <tr>\n",
       "      <th>161</th>\n",
       "      <td>1</td>\n",
       "      <td>0</td>\n",
       "      <td>0.883211</td>\n",
       "      <td>0.116789</td>\n",
       "    </tr>\n",
       "    <tr>\n",
       "      <th>118</th>\n",
       "      <td>1</td>\n",
       "      <td>0</td>\n",
       "      <td>0.825933</td>\n",
       "      <td>0.174067</td>\n",
       "    </tr>\n",
       "  </tbody>\n",
       "</table>\n",
       "</div>"
      ],
      "text/plain": [
       "     actually_options  predicted_options  p_is_stocks  p_is_options\n",
       "253                 1                  0     0.891329      0.108671\n",
       "161                 1                  0     0.883211      0.116789\n",
       "118                 1                  0     0.825933      0.174067"
      ]
     },
     "execution_count": 125,
     "metadata": {},
     "output_type": "execute_result"
    }
   ],
   "source": [
    "preds_df[(preds_df['actually_options']==1) & (preds_df['predicted_options']==0)].sort_values(by='p_is_stocks',\n",
    "                                                                                             ascending=False).head(3)"
   ]
  },
  {
   "cell_type": "markdown",
   "metadata": {},
   "source": [
    "And this here shows the more moderate misclassification of r/stocks posts. While our classifier did get these wrong, observe how it was less sure of its decision as compared to above."
   ]
  },
  {
   "cell_type": "code",
   "execution_count": 126,
   "metadata": {},
   "outputs": [
    {
     "data": {
      "text/html": [
       "<div>\n",
       "<style scoped>\n",
       "    .dataframe tbody tr th:only-of-type {\n",
       "        vertical-align: middle;\n",
       "    }\n",
       "\n",
       "    .dataframe tbody tr th {\n",
       "        vertical-align: top;\n",
       "    }\n",
       "\n",
       "    .dataframe thead th {\n",
       "        text-align: right;\n",
       "    }\n",
       "</style>\n",
       "<table border=\"1\" class=\"dataframe tex2jax_ignore\">\n",
       "  <thead>\n",
       "    <tr style=\"text-align: right;\">\n",
       "      <th></th>\n",
       "      <th>actually_options</th>\n",
       "      <th>predicted_options</th>\n",
       "      <th>p_is_stocks</th>\n",
       "      <th>p_is_options</th>\n",
       "    </tr>\n",
       "  </thead>\n",
       "  <tbody>\n",
       "    <tr>\n",
       "      <th>1704</th>\n",
       "      <td>0</td>\n",
       "      <td>1</td>\n",
       "      <td>0.325793</td>\n",
       "      <td>0.674207</td>\n",
       "    </tr>\n",
       "    <tr>\n",
       "      <th>1341</th>\n",
       "      <td>0</td>\n",
       "      <td>1</td>\n",
       "      <td>0.378494</td>\n",
       "      <td>0.621506</td>\n",
       "    </tr>\n",
       "    <tr>\n",
       "      <th>1412</th>\n",
       "      <td>0</td>\n",
       "      <td>1</td>\n",
       "      <td>0.380833</td>\n",
       "      <td>0.619167</td>\n",
       "    </tr>\n",
       "  </tbody>\n",
       "</table>\n",
       "</div>"
      ],
      "text/plain": [
       "      actually_options  predicted_options  p_is_stocks  p_is_options\n",
       "1704                 0                  1     0.325793      0.674207\n",
       "1341                 0                  1     0.378494      0.621506\n",
       "1412                 0                  1     0.380833      0.619167"
      ]
     },
     "execution_count": 126,
     "metadata": {},
     "output_type": "execute_result"
    }
   ],
   "source": [
    "preds_df[(preds_df['actually_options']==0) & (preds_df['predicted_options']==1)].sort_values(by='p_is_options',\n",
    "                                                                                             ascending=False).head(3)"
   ]
  },
  {
   "cell_type": "markdown",
   "metadata": {},
   "source": [
    "Another way to look at the uncertainty inherent in our model is to plot a histogram of the predicted probabilities. Below are the predicted probabilities of each observation that they belong to r/options. The yellow bars represent actual posts from r/stocks, and the blue those from r/options. Any yellow bar to the right of our classifier threshold are False Negatives. They are posts from r/stocks that were misclassified as r/options because their probabilities were above 0.5. Any blue bars to the left of our classifier threshold are False Positives. They are posts from r/options that were misclassified as r/stocks because their probabilities were below 0.5."
   ]
  },
  {
   "cell_type": "code",
   "execution_count": 67,
   "metadata": {},
   "outputs": [
    {
     "data": {
      "image/png": "[encoded data removed]",
      "text/plain": [
       "<Figure size 576x432 with 1 Axes>"
      ]
     },
     "metadata": {
      "needs_background": "light"
     },
     "output_type": "display_data"
    }
   ],
   "source": [
    "# plot histogram for the class probabilities for true r/options posts\n",
    "sns.histplot(data=preds_df[preds_df['actually_options']==1], x='p_is_options', alpha=0.5, label ='True options')\n",
    "# plot histogram for the class probabilities for true r/stocks posts\n",
    "sns.histplot(data=preds_df[preds_df['actually_options']==0], x='p_is_options', alpha=0.5, color='yellow', label='True stocks')\n",
    "plt.axvline(0.5, linestyle='dashed', c='red')\n",
    "plt.xlabel('Probability of being from r/options')\n",
    "plt.legend();"
   ]
  },
  {
   "cell_type": "markdown",
   "metadata": {},
   "source": [
    "We can see clearly here that the extent of misclassification of our false negatives was much less severe than that of our false positives. Our true r/options predicted probabilities extend very far into r/stocks territory, but not vice versa. This is another way we can see that our classifier is worse at predicting r/options posts than r/stocks posts.\n",
    "\n",
    "Knowing all this now, is there a way we can improve the overall performance of our model? \n",
    "\n",
    "One possible method that comes to mind is to simply change our classifier threshold. We know that our classifier does worse with r/options posts, so what if we try to make it more *tolerant* for posts it is unsure of? In other words, we can try to *make* it predict more r/options posts by lowering our classification threshold from its default 0.5. Let's test a threshold range of 0.45-0.55 just to observe the general impact changing our classifier threshold has on model performance. In order for our model accuracy to increase, we are hoping that any increase in our False Negatives will be accompanied by a larger decrease in our False Positives."
   ]
  },
  {
   "cell_type": "code",
   "execution_count": 68,
   "metadata": {},
   "outputs": [
    {
     "data": {
      "image/png": "[encoded data removed]",
      "text/plain": [
       "<Figure size 1080x432 with 2 Axes>"
      ]
     },
     "metadata": {
      "needs_background": "light"
     },
     "output_type": "display_data"
    }
   ],
   "source": [
    "fig, (ax1, ax2) = plt.subplots(1,2, figsize=(15,6))\n",
    "\n",
    "acc_array = [accuracy_score(y_val, (preds_df['p_is_options'] > p).astype(int)) for p in np.linspace(0.45,0.55,41)]\n",
    "# plot thresholds against scores\n",
    "sns.lineplot(x=np.linspace(0.45,0.55,41), y=acc_array, marker='o',ax=ax2)\n",
    "# default threshold is 0.5, the middle value of our range\n",
    "# draw lines from our default point to  x and y axis\n",
    "ax2.axhline(acc_array[20], xmax=0.5, linestyle = 'dashed', c='r')\n",
    "ax2.axvline(0.5, linestyle = 'dashed', c='r', label = 'p=0.5 \\nAccuracy={:.3f}'.format(acc_array[20]))\n",
    "# find the new threshold that gives us back the highest metric score\n",
    "# do this by extracting the index of the highest metric score using np.where\n",
    "new_p = np.linspace(0.45,0.55,41)[np.where(acc_array==max(acc_array))][0]\n",
    "# plots new lines showing the new threshold and metric score\n",
    "ax2.axvline(new_p, linestyle = 'dashed', c='g', label='p={} \\nAccuracy={:.3f}'.format(new_p, max(acc_array)))\n",
    "ax2.axhline(max(acc_array), xmax=(new_p-0.445)/0.1, linestyle='dashed', c='g')\n",
    "ax2.set_xlabel('Classifier threshold, p'), ax2.set_ylabel('{} score'.format(name))\n",
    "ax2.set_title('Effect of p on accuracy', y=1.02)\n",
    "ax2.legend()\n",
    "\n",
    "plot_roc_curve(best_lr, X_val, y_val, ax=ax1)\n",
    "ax1.set_title(\"ROC\", y=1.02)\n",
    "\n",
    "for color, p in [('r', 0.45),('orange', 0.55), ('g', new_p)]:\n",
    "    tn, fp, fn, tp = confusion_matrix(y_val,preds_df['p_is_options'] > p).ravel()\n",
    "    tpr = tp/(tp+fn)\n",
    "    fpr = fp/(fp+tn)\n",
    "    ax1.scatter(fpr, tpr, marker='X', c='red', s=100)\n",
    "    ax1.axvline(fpr, ymax=tpr-0.05, linestyle='dashed', c=color, label=f'p={p}')\n",
    "    ax1.axhline(tpr, xmax=fpr+0.05, linestyle='dashed', c=color)\n",
    "\n",
    "ax1.legend();"
   ]
  },
  {
   "cell_type": "markdown",
   "metadata": {},
   "source": [
    "The ROC graph shows how our True Positive Rate and False Positive Rate changes as we shift our threshold values between 0.45 and 0.55. We drew a green dashed line from the point at which accuracy was maximized to the y and x axis to show what the TPR and FPR values are at this threshold. In other words, it can show us optimal trade-off between TPR and FPR when we optimize for accuracy.\n",
    "\n",
    "The graph on the right shows how our accuracy changes as we move our threshold around. We can see that as we move our threshold to the left slightly, our accuracy goes up. Conversely, when we move our threshold to the left, our accuracy dips. This is because we have many more False Negatives than False Positives. The decrease our False Negatives when we shift the threshold to the left has an outsized effect compared to the increase in False Positives we incur, and thus our accuracy improves. We show this trade off in the confusion matrix below, whereby our False Positives increased by 4 but our False Negatives decreased by 9."
   ]
  },
  {
   "cell_type": "code",
   "execution_count": 139,
   "metadata": {
    "scrolled": false
   },
   "outputs": [
    {
     "data": {
      "image/png": "[encoded data removed]",
      "text/plain": [
       "<Figure size 576x432 with 2 Axes>"
      ]
     },
     "metadata": {
      "needs_background": "light"
     },
     "output_type": "display_data"
    }
   ],
   "source": [
    "# create a confusion matrix for when p=0.465.\n",
    "sns.heatmap(confusion_matrix(y_val, (preds_df['p_is_options']>0.465).astype(int)), annot=True, fmt='d', cmap='Blues')\n",
    "plt.xlabel('Predicted'), plt.xticks((0.5,1.5),labels=['Stocks','Options'])\n",
    "plt.ylabel('Actual'), plt.yticks((0.5,1.5),labels=['Stocks','Options'], rotation=0)\n",
    "plt.title('Confusion Matrix with classifier threshold=0.465');"
   ]
  },
  {
   "cell_type": "code",
   "execution_count": 66,
   "metadata": {},
   "outputs": [
    {
     "name": "stdout",
     "output_type": "stream",
     "text": [
      "Train accuracy: 0.93611\n",
      "Validation accuracy: 0.89167\n"
     ]
    }
   ],
   "source": [
    "# print out our new scores when p=0.465 for both train and val sets\n",
    "train_preds = best_lr.predict(X_train)\n",
    "val_preds = (preds_df['p_is_options'] > 0.465).astype(int)\n",
    "\n",
    "print('Train accuracy: {:.5f}'.format(accuracy_score(y_train, train_preds)))\n",
    "print('Validation accuracy: {:.5f}'.format(accuracy_score(y_val, val_preds)))\n",
    "    "
   ]
  },
  {
   "cell_type": "markdown",
   "metadata": {},
   "source": [
    "This table compares the results of our model with the 2 different thresholds on both the train and validation sets.\n",
    "\n",
    "|Threshold p value|Train Accuracy|Validation Accuracy|\n",
    "|---|---|---|\n",
    "|0.5| 0.93611|0.88125|\n",
    "|0.465|0.93611|0.89167|\n",
    "\n",
    "As we saw, we managed to eke out a small improvement of 1%, while also making our False Positives and Negatives more balanced. Let's try another method of improving our model."
   ]
  },
  {
   "cell_type": "markdown",
   "metadata": {},
   "source": [
    "Another way we can adjust our model is to remove certain features were present in our misclassified posts. Let's rerun our model after adding `short`,`put`, and `premium` into our stop words. These were 3 features we identified earlier when examining our misclassified posts. By removing these words, we force the model to learn new odds for the remaining features."
   ]
  },
  {
   "cell_type": "code",
   "execution_count": 145,
   "metadata": {
    "scrolled": true
   },
   "outputs": [
    {
     "name": "stdout",
     "output_type": "stream",
     "text": [
      "Fitting 5 folds for each of 1 candidates, totalling 5 fits\n"
     ]
    },
    {
     "name": "stderr",
     "output_type": "stream",
     "text": [
      "[Parallel(n_jobs=-1)]: Using backend LokyBackend with 8 concurrent workers.\n",
      "[Parallel(n_jobs=-1)]: Done   2 out of   5 | elapsed:    2.2s remaining:    3.3s\n",
      "[Parallel(n_jobs=-1)]: Done   5 out of   5 | elapsed:    3.6s finished\n"
     ]
    },
    {
     "name": "stdout",
     "output_type": "stream",
     "text": [
      "Best CV score: 0.8715277777777777\n",
      "Best params: {'lr__solver': 'saga', 'tvec__max_df': 0.8, 'tvec__max_features': 3000, 'tvec__min_df': 2, 'tvec__ngram_range': (1, 3), 'tvec__stop_words': ['stocks', 'options', 'stock', 'option', 'put', 'short', 'premium']}\n",
      "----------\n",
      "Training ROC AUC: 0.9364500988142292\n",
      "Training accuracy: 0.9361111111111111\n",
      "Validation ROC AUC: 0.8901867129830656\n",
      "Validation accuracy: 0.8895833333333333\n",
      "True positives: 211\n",
      "False positives: 19\n",
      "True negatives: 216\n",
      "False negatives: 34\n"
     ]
    }
   ],
   "source": [
    "pipe_params = {\n",
    "    'tvec__max_df':[0.8],\n",
    "    'tvec__min_df':[2],\n",
    "    'tvec__max_features':[3000],\n",
    "    'tvec__ngram_range':[(1,3)],\n",
    "    'tvec__stop_words':[['stocks','options','stock','option','put','short','premium']],\n",
    "\n",
    "    'lr__solver': ['saga']\n",
    "}\n",
    "\n",
    "new_lr = gscv_creator('tvec', 'lr', pipe_params)\n",
    "new_lr.fit(X_train, y_train)\n",
    "gscv_result_printer(new_lr, X_val, y_val)"
   ]
  },
  {
   "cell_type": "markdown",
   "metadata": {},
   "source": [
    "Our accuracy increased from 88.2% to 89% when we add in these stop words. This is not a bad improvement in fact, and is likely to be a more generalizable way to improve our model than changing its classification threshold to 0.465, which may simply be the optimal value for *this* set of data. As such, we'll now call this new model, with the extra stopwords, our final production model."
   ]
  },
  {
   "cell_type": "markdown",
   "metadata": {},
   "source": [
    "## Conclusions and recommendations\n",
    "### Summary\n",
    "A summary of our findings and discussion is as follows:\n",
    "\n",
    "1. The best model for classifying our subreddit posts uses the TfidfVectorizer and Logistic Regression estimator.\n",
    "2. Top predictive terms for r/options include many technical terms unique to options trading. \n",
    "    - examples include `OTM`, `ITM`, `iv`, `strike`.\n",
    "    - discussions less focused on specific companies and fundamentals, more on strategies like covered calls. (`cover call` is a top feature)\n",
    "3. Top predictive terms for r/options include terms related to fundamentals of companies \n",
    "    - examples include `invest`, `company`, `revenue`.\n",
    "4. Our model has more trouble classifying r/options posts, and tends to severely misclassify them (lower class probabilities) as compared to r/stocks posts.\n",
    "\n",
    "We were also able to increase our model's performance by adding in 3 new stop words, `short`, `put`, and `premium`. \n",
    "\n",
    "This project aimed to discover the most representative features of each subreddit that would allow us to accurately classify posts from these subreddits. We were able to do so with 89% accuracy, and even managed to tease out trends for each subreddit. Nonetheless, there is always room for improvement, and ways to make our classifier more useful.\n",
    "\n",
    "### Recommendations\n",
    "Our first recommendation to users wishing to improve on our model would be to continually train it on a larger corpus of text. Our data was gathered from the top 1000 post from each subreddit in a month. One could feasibly scrape a new set of 1000 posts every month from each subreddit, adding to the amount of training data available for our model to learn from. This will hopefully allow our model to learn how to identify especially those r/options posts that read like r/stocks posts. There is a caveat here that we discuss in limitations section below.\n",
    "\n",
    "Our second recommendation to users wishing to take our model one step further would be to explore the use of named entity recognition through libraries such as spaCy. The use of named entity recognition could allow one to focus on identifying trending companies within a subreddit as a means of gauging retail sentiment. This is of incredible use to anyone who is keen on using retail sentiment to forecast price movements and trading volume. In addition, if one is able to extend named entity recognition to identify unique stock/option trading strategy names, one would be able to get a sense of popular, well-used strategies. This could be of use to a beginning investor who would like to know what strategies many people are using, so that he can focus on learning them. \n",
    "\n",
    "One way our classifier can already begin to accomplish this gauging of sentiment is to examine which companies are more likely to appear in a specific subreddit. We do this by looking at the odds of success (i.e. odds of belonging to a subreddit) for whatever company we are interested in.\n",
    "\n",
    "As an example, let's look at GME, Apple, Amazon, Sundial, SPY, AMC, Blackberry, and Tilray. I picked these simply because I myself have been interested in them before, so I want to put myself in the shoes of a trader who's going to use this classifier."
   ]
  },
  {
   "cell_type": "code",
   "execution_count": 199,
   "metadata": {},
   "outputs": [
    {
     "data": {
      "text/html": [
       "<div>\n",
       "<style scoped>\n",
       "    .dataframe tbody tr th:only-of-type {\n",
       "        vertical-align: middle;\n",
       "    }\n",
       "\n",
       "    .dataframe tbody tr th {\n",
       "        vertical-align: top;\n",
       "    }\n",
       "\n",
       "    .dataframe thead th {\n",
       "        text-align: right;\n",
       "    }\n",
       "</style>\n",
       "<table border=\"1\" class=\"dataframe tex2jax_ignore\">\n",
       "  <thead>\n",
       "    <tr style=\"text-align: right;\">\n",
       "      <th></th>\n",
       "      <th>feature</th>\n",
       "      <th>coef</th>\n",
       "    </tr>\n",
       "  </thead>\n",
       "  <tbody>\n",
       "    <tr>\n",
       "      <th>2487</th>\n",
       "      <td>sndl</td>\n",
       "      <td>3.141989</td>\n",
       "    </tr>\n",
       "    <tr>\n",
       "      <th>2541</th>\n",
       "      <td>spy</td>\n",
       "      <td>2.697026</td>\n",
       "    </tr>\n",
       "    <tr>\n",
       "      <th>205</th>\n",
       "      <td>amc</td>\n",
       "      <td>2.006220</td>\n",
       "    </tr>\n",
       "    <tr>\n",
       "      <th>2743</th>\n",
       "      <td>tlry</td>\n",
       "      <td>1.192155</td>\n",
       "    </tr>\n",
       "    <tr>\n",
       "      <th>214</th>\n",
       "      <td>amzn</td>\n",
       "      <td>0.947815</td>\n",
       "    </tr>\n",
       "    <tr>\n",
       "      <th>119</th>\n",
       "      <td>aapl</td>\n",
       "      <td>0.686456</td>\n",
       "    </tr>\n",
       "    <tr>\n",
       "      <th>375</th>\n",
       "      <td>blackberry</td>\n",
       "      <td>0.526761</td>\n",
       "    </tr>\n",
       "    <tr>\n",
       "      <th>1235</th>\n",
       "      <td>gme</td>\n",
       "      <td>0.526120</td>\n",
       "    </tr>\n",
       "  </tbody>\n",
       "</table>\n",
       "</div>"
      ],
      "text/plain": [
       "         feature      coef\n",
       "2487        sndl  3.141989\n",
       "2541         spy  2.697026\n",
       "205          amc  2.006220\n",
       "2743        tlry  1.192155\n",
       "214         amzn  0.947815\n",
       "119         aapl  0.686456\n",
       "375   blackberry  0.526761\n",
       "1235         gme  0.526120"
      ]
     },
     "execution_count": 199,
     "metadata": {},
     "output_type": "execute_result"
    }
   ],
   "source": [
    "success_odds_class_1[success_odds_class_1['feature'].isin(['blackberry','amzn','aapl','gme','amc','tlry','sndl','spy'])]"
   ]
  },
  {
   "cell_type": "markdown",
   "metadata": {},
   "source": [
    "Each mention of the company makes it x times more likely that the post comes from r/options, where x is the value of the coefficient. For companies whose coefficient is above 1, i.e. Sundial, SPY, AMC, and Tilray, this means that they are more likely to be discussed in r/options than r/stocks. The opposite is true for companies with coefficient less than 1. Amazon, Apple, Blackberry, and GME and all *less* likely to be discussed in r/options, and *more* likely to be discussed in r/stocks. \n",
    "\n",
    "Our very basic classifier is thus already able to gauge, albeit very loosely, the popularity of these companies within a certain class of traders. A further step would be to use sentiment analysis packages like Vader to judge whether the discussion surrounding these companies is positive or negative."
   ]
  },
  {
   "cell_type": "markdown",
   "metadata": {},
   "source": [
    "### Limitations\n",
    "One limitation we face with making a classifier on subreddit like r/options and r/stocks is that the validity of our classifier is very seasonal. Trends come and go within these subreddits, meaning that the content of the posts, and thus the features we extract to train our model on, will change as time passes. As such, features that our model found to be important this year, may no longer be important features next year. Popular trading strategies may change, or new companies may take the place of GameStop as the most hotly discussed stock. As such, for a classifier like this to remain current, it would constantly have to be retrained on a new corpus at an appropriate time interval, for it to be able to continue accurately classifying these posts."
   ]
  }
 ],
 "metadata": {
  "kernelspec": {
   "display_name": "Python 3",
   "language": "python",
   "name": "python3"
  },
  "language_info": {
   "codemirror_mode": {
    "name": "ipython",
    "version": 3
   },
   "file_extension": ".py",
   "mimetype": "text/x-python",
   "name": "python",
   "nbconvert_exporter": "python",
   "pygments_lexer": "ipython3",
   "version": "3.8.5"
  },
  "toc": {
   "base_numbering": 1,
   "nav_menu": {},
   "number_sections": true,
   "sideBar": true,
   "skip_h1_title": false,
   "title_cell": "Table of Contents",
   "title_sidebar": "Contents",
   "toc_cell": false,
   "toc_position": {},
   "toc_section_display": true,
   "toc_window_display": true
  }
 },
 "nbformat": 4,
 "nbformat_minor": 4
}
