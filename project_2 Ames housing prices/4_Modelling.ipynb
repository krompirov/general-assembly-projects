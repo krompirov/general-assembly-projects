{
 "cells": [
  {
   "cell_type": "markdown",
   "metadata": {},
   "source": [
    "## Modelling\n",
    "We finally come tom the modelling stage. Here our objective is to test out a variety of linear regression models, and continuously iterate until we find a decent working model. To recap, we already have a baseline model that uses the mean of the training set as the predicted price. Our objective is to **beat** that model, and failing which, to become a monk in Tibet.\n",
    "\n",
    "There are 4 models we want to test out.\n",
    "1. Multiple Linear Regression\n",
    "2. Ridge Regression\n",
    "3. Lasso Regression\n",
    "4. ElasticNet Regression - we test this at the end.\n",
    "\n",
    "In some sense, our MLR will act as our baseline for all 4 regression models, as it is the least complex of all 4. Our basic workflow is as follows:\n",
    "\n",
    "1. Decide on a set of predictor variables\n",
    "2. Train MLR, Ridge, and Lasso models on that set of variables.\n",
    "3. Run these models on the train_val set that we held out before.\n",
    "4. Compare the RMSE scores for each model, which is what Kaggle uses.\n",
    "5. Examine, through our Lasso models, which variables zeroed down, and come up with a new set of predictors.\n",
    "6. Repeat!\n",
    "\n",
    "For our initial run, we won't run our ElasticNet yet. We'll let Lasso decide which coefficients it thinks are important, and then we'll run a final round with ElasticNet once we've decided on our top 30 predictors. The hope is that with an optimal set of predictors, ElasticNet will be able to strike a balance between Ridge and Lasso for us, giving us the best performance.\n",
    "\n",
    "Reminder: our baseline model's RMSE validation score is 79511.73. We want to beat this."
   ]
  },
  {
   "cell_type": "markdown",
   "metadata": {},
   "source": [
    "#### Import our libraries"
   ]
  },
  {
   "cell_type": "code",
   "execution_count": 1,
   "metadata": {},
   "outputs": [],
   "source": [
    "# import our libraries\n",
    "import pandas as pd \n",
    "import numpy as np\n",
    "import matplotlib.pyplot as plt\n",
    "import matplotlib as mpl\n",
    "import seaborn as sns\n",
    "import math\n",
    "\n",
    "from sklearn.linear_model import LinearRegression, Lasso, LassoCV, Ridge, RidgeCV, ElasticNet, ElasticNetCV\n",
    "from sklearn.model_selection import train_test_split, cross_val_score\n",
    "from sklearn.metrics import mean_squared_error\n",
    "\n",
    "import statsmodels.api as sm\n",
    "%matplotlib inline\n",
    "\n",
    "# this is just so we can see all our rows at once\n",
    "pd.set_option('display.max_rows', 120)"
   ]
  },
  {
   "cell_type": "code",
   "execution_count": 2,
   "metadata": {},
   "outputs": [],
   "source": [
    "# some matplotlib params to make the defaults a bit more readable\n",
    "mpl.rcParams['figure.figsize'] = [8.0, 6.0]\n",
    "mpl.rcParams['font.size'] = 12\n",
    "mpl.rcParams['axes.spines.right'] = False\n",
    "mpl.rcParams['axes.spines.top'] = False"
   ]
  },
  {
   "cell_type": "code",
   "execution_count": 3,
   "metadata": {},
   "outputs": [
    {
     "data": {
      "text/plain": [
       "Series([], dtype: float64)"
      ]
     },
     "execution_count": 3,
     "metadata": {},
     "output_type": "execute_result"
    }
   ],
   "source": [
    "# import our train_train set\n",
    "df = pd.read_csv('./datasets/tt_clean_dummy.csv')\n",
    "df[df.columns[df.isna().sum()>0]].isna().sum() # this is a sanity check for null values"
   ]
  },
  {
   "cell_type": "code",
   "execution_count": 4,
   "metadata": {},
   "outputs": [
    {
     "data": {
      "text/plain": [
       "Series([], dtype: float64)"
      ]
     },
     "execution_count": 4,
     "metadata": {},
     "output_type": "execute_result"
    }
   ],
   "source": [
    "# import our train_val set\n",
    "df_val = pd.read_csv('./datasets/tv_clean_dummy.csv')\n",
    "df_val[df_val.columns[df_val.isna().sum()>0]].isna().sum()"
   ]
  },
  {
   "cell_type": "markdown",
   "metadata": {},
   "source": [
    "### Multiple Linear Regression\n",
    "Let's start of with our base regression model. For our first run, we're going to throw ALL our variables into our model. This is obviously going to be terribly overfit, but nonetheless, it's a start."
   ]
  },
  {
   "cell_type": "code",
   "execution_count": 5,
   "metadata": {},
   "outputs": [],
   "source": [
    "# set our target and predictor variables\n",
    "y_train = df['SalePrice']\n",
    "X_train = df.drop(columns = ['SalePrice'])\n",
    "y_val = df_val['SalePrice']\n",
    "X_val = df_val.drop(columns = ['SalePrice'])"
   ]
  },
  {
   "cell_type": "code",
   "execution_count": 6,
   "metadata": {},
   "outputs": [
    {
     "data": {
      "text/plain": [
       "LinearRegression()"
      ]
     },
     "execution_count": 6,
     "metadata": {},
     "output_type": "execute_result"
    }
   ],
   "source": [
    "# create and fit our linear regression model\n",
    "lr = LinearRegression()\n",
    "lr.fit(X_train,y_train)"
   ]
  },
  {
   "cell_type": "code",
   "execution_count": 7,
   "metadata": {},
   "outputs": [
    {
     "name": "stdout",
     "output_type": "stream",
     "text": [
      "LinReg CV mean: -772769278829210.8\n",
      "LinReg RMSE on train set: 22544.14434134357\n",
      "LinReg RMSE on validation set: 2.276001334353644e+17\n"
     ]
    }
   ],
   "source": [
    "print(\"LinReg CV mean: {}\".format(cross_val_score(lr, X_train, y_train, cv=10, scoring = 'neg_root_mean_squared_error').mean()))\n",
    "y_preds = lr.predict(X_train)\n",
    "print(\"LinReg RMSE on train set: {}\".format(mean_squared_error(y_train, y_preds, squared=False)))\n",
    "y_val_preds = lr.predict(X_val)\n",
    "print(\"LinReg RMSE on validation set: {}\".format(mean_squared_error(y_val, y_val_preds, squared=False)))"
   ]
  },
  {
   "cell_type": "markdown",
   "metadata": {},
   "source": [
    "As we can see, our LinReg generalizes poorly to our validation set. This is expected as our model is severely overfit by using ALL our variables as predictors. However, what is surprising is that it does even worse than our null regression by many times."
   ]
  },
  {
   "cell_type": "markdown",
   "metadata": {},
   "source": [
    "### Ridge Regression\n",
    "We'll run RidgeCV first to find the optimal alpha, then run cross_val_score using a fitted Ridge() model."
   ]
  },
  {
   "cell_type": "code",
   "execution_count": 8,
   "metadata": {},
   "outputs": [],
   "source": [
    "def ridge_runner(X_train, X_val, y=y_train, y_val=y_val):\n",
    "    r_alphas = np.logspace(0,5,200)\n",
    "    ridge_cv = RidgeCV(alphas=r_alphas, store_cv_values=True)\n",
    "    ridge_cv.fit(X_train, y)\n",
    "    # extract optimal alpha\n",
    "    optimal_ralpha = ridge_cv.alpha_\n",
    "    # instantiate new model with optimal alpha\n",
    "    ridge = Ridge(alpha=optimal_ralpha)\n",
    "    ridge.fit(X_train, y)\n",
    "    # run cross_val score using the optimal alpha found\n",
    "    print(\"Optimal alpha: {}\".format(optimal_ralpha))\n",
    "    print(\"Ridge CV mean: {}\".format(cross_val_score(ridge, X_train, y, cv=10, scoring = 'neg_root_mean_squared_error').mean()))\n",
    "    # calculate RMSE for train and validation sets\n",
    "    y_preds = ridge.predict(X_train)\n",
    "    print(\"Ridge RMSE on train set: {}\".format(mean_squared_error(y, y_preds, squared=False)))\n",
    "    y_val_preds = ridge.predict(X_val)\n",
    "    print(\"Ridge RMSE on validation set: {}\".format(mean_squared_error(y_val, y_val_preds, squared=False)))\n",
    "    return ridge, ridge_cv"
   ]
  },
  {
   "cell_type": "code",
   "execution_count": 9,
   "metadata": {},
   "outputs": [
    {
     "name": "stdout",
     "output_type": "stream",
     "text": [
      "Optimal alpha: 12.750512407130135\n",
      "Ridge CV mean: -24132.029578045003\n",
      "Ridge RMSE on train set: 21974.646091953142\n",
      "Ridge RMSE on validation set: 34909.88455085879\n"
     ]
    }
   ],
   "source": [
    "ridge, ridge_cv = ridge_runner(X_train, X_val)"
   ]
  },
  {
   "cell_type": "markdown",
   "metadata": {},
   "source": [
    "The ridge model has already performed significantly better than our linear regression model. However, we see that our ridge model does quite a lot worse on the validation set, which indicates that it is overfitting the train set. This is a case of low bias, but high variance. We will want to reduce this variance so that we can be confident of our model's predictive power on unseen data."
   ]
  },
  {
   "cell_type": "markdown",
   "metadata": {},
   "source": [
    "### Lasso Regression\n",
    "Like for Ridge, we run LassoCV to run the optimal alpha, then we run cross_val_score using a new Lasso model with the optimal alpha. We are also interested here in seeing what variables the Lasso model zeroes out."
   ]
  },
  {
   "cell_type": "code",
   "execution_count": 10,
   "metadata": {},
   "outputs": [],
   "source": [
    "def lasso_runner(X_train, X_val, y=y_train, y_val=y_val, l_alphas=None, n_alphas=100, eps=0.001, max_iter=1000):\n",
    "    if l_alphas is None:\n",
    "        lasso_cv = LassoCV(n_alphas=n_alphas, eps=eps, max_iter=max_iter)\n",
    "    else: \n",
    "        lasso_cv = LassoCV(alphas=l_alphas)\n",
    "    lasso_cv.fit(X_train, y)\n",
    "    # extract the optimal alpha\n",
    "    optimal_lalpha = lasso_cv.alpha_\n",
    "    # instantiate a new Lasso model with the alpha we found.\n",
    "    lasso = Lasso(alpha=optimal_lalpha)\n",
    "    lasso.fit(X_train, y)\n",
    "    # run cross_val_score using the optimal alpha found\n",
    "    print(\"Optimal alpha: {}\".format(optimal_lalpha))\n",
    "    print(\"Lasso CV mean: {}\".format(cross_val_score(lasso, X_train, y, cv=10, scoring = 'neg_root_mean_squared_error').mean()))\n",
    "    # calculate RMSE for train and validation sets    \n",
    "    y_preds = lasso.predict(X_train)\n",
    "    print(\"Lasso RMSE on train set: {}\".format(mean_squared_error(y, y_preds, squared=False)))    \n",
    "    y_val_preds = lasso.predict(X_val)\n",
    "    print(\"Lasso RMSE on validation set: {}\".format(mean_squared_error(y_val, y_val_preds, squared=False)))\n",
    "    return lasso, lasso_cv"
   ]
  },
  {
   "cell_type": "code",
   "execution_count": 11,
   "metadata": {
    "scrolled": true
   },
   "outputs": [
    {
     "name": "stdout",
     "output_type": "stream",
     "text": [
      "Optimal alpha: 63.41934232018882\n",
      "Lasso CV mean: -24089.712890508352\n",
      "Lasso RMSE on train set: 22069.56670453108\n",
      "Lasso RMSE on validation set: 33338.924014948985\n"
     ]
    }
   ],
   "source": [
    "lasso, lasso_cv = lasso_runner(X_train, X_val)"
   ]
  },
  {
   "cell_type": "markdown",
   "metadata": {},
   "source": [
    "Like the ridge, our lasso also does much better than our linear regresion model. We see the same problems of overfitting here, which is to be expected as we simply threw all our variables at it. Thankfully we should be able to use our Lasso to tell us what variables it felt were important enough to keep.\n",
    "***\n",
    "Let's look at what variables our Lasso model retained, i.e. did not set the coefficient to zero for."
   ]
  },
  {
   "cell_type": "code",
   "execution_count": 12,
   "metadata": {
    "scrolled": true
   },
   "outputs": [
    {
     "data": {
      "text/html": [
       "<div>\n",
       "<style scoped>\n",
       "    .dataframe tbody tr th:only-of-type {\n",
       "        vertical-align: middle;\n",
       "    }\n",
       "\n",
       "    .dataframe tbody tr th {\n",
       "        vertical-align: top;\n",
       "    }\n",
       "\n",
       "    .dataframe thead th {\n",
       "        text-align: right;\n",
       "    }\n",
       "</style>\n",
       "<table border=\"1\" class=\"dataframe\">\n",
       "  <thead>\n",
       "    <tr style=\"text-align: right;\">\n",
       "      <th></th>\n",
       "      <th>Feature</th>\n",
       "      <th>Coef</th>\n",
       "    </tr>\n",
       "  </thead>\n",
       "  <tbody>\n",
       "    <tr>\n",
       "      <th>104</th>\n",
       "      <td>Neighborhood_StoneBr</td>\n",
       "      <td>3.618283e+04</td>\n",
       "    </tr>\n",
       "    <tr>\n",
       "      <th>98</th>\n",
       "      <td>Neighborhood_NridgHt</td>\n",
       "      <td>2.396818e+04</td>\n",
       "    </tr>\n",
       "    <tr>\n",
       "      <th>48</th>\n",
       "      <td>Year Built * Gr Liv Area</td>\n",
       "      <td>2.286852e+04</td>\n",
       "    </tr>\n",
       "    <tr>\n",
       "      <th>89</th>\n",
       "      <td>Neighborhood_GrnHill</td>\n",
       "      <td>1.947349e+04</td>\n",
       "    </tr>\n",
       "    <tr>\n",
       "      <th>97</th>\n",
       "      <td>Neighborhood_NoRidge</td>\n",
       "      <td>1.736192e+04</td>\n",
       "    </tr>\n",
       "    <tr>\n",
       "      <th>202</th>\n",
       "      <td>Sale Type_New</td>\n",
       "      <td>1.610440e+04</td>\n",
       "    </tr>\n",
       "    <tr>\n",
       "      <th>71</th>\n",
       "      <td>Land Contour_HLS</td>\n",
       "      <td>1.443091e+04</td>\n",
       "    </tr>\n",
       "    <tr>\n",
       "      <th>4</th>\n",
       "      <td>Overall Qual</td>\n",
       "      <td>1.347104e+04</td>\n",
       "    </tr>\n",
       "    <tr>\n",
       "      <th>15</th>\n",
       "      <td>BsmtFin SF 1</td>\n",
       "      <td>1.166534e+04</td>\n",
       "    </tr>\n",
       "    <tr>\n",
       "      <th>138</th>\n",
       "      <td>Exterior 1st_BrkFace</td>\n",
       "      <td>1.154574e+04</td>\n",
       "    </tr>\n",
       "    <tr>\n",
       "      <th>111</th>\n",
       "      <td>Condition 1_PosN</td>\n",
       "      <td>1.097321e+04</td>\n",
       "    </tr>\n",
       "    <tr>\n",
       "      <th>116</th>\n",
       "      <td>Bldg Type_1Fam</td>\n",
       "      <td>1.038497e+04</td>\n",
       "    </tr>\n",
       "    <tr>\n",
       "      <th>6</th>\n",
       "      <td>Year Built</td>\n",
       "      <td>9.064239e+03</td>\n",
       "    </tr>\n",
       "    <tr>\n",
       "      <th>85</th>\n",
       "      <td>Neighborhood_Crawfor</td>\n",
       "      <td>8.281265e+03</td>\n",
       "    </tr>\n",
       "    <tr>\n",
       "      <th>95</th>\n",
       "      <td>Neighborhood_NPkVill</td>\n",
       "      <td>7.204565e+03</td>\n",
       "    </tr>\n",
       "    <tr>\n",
       "      <th>5</th>\n",
       "      <td>Overall Cond</td>\n",
       "      <td>6.532030e+03</td>\n",
       "    </tr>\n",
       "    <tr>\n",
       "      <th>19</th>\n",
       "      <td>Total Bsmt SF</td>\n",
       "      <td>6.443974e+03</td>\n",
       "    </tr>\n",
       "    <tr>\n",
       "      <th>60</th>\n",
       "      <td>MS SubClass_75</td>\n",
       "      <td>6.247014e+03</td>\n",
       "    </tr>\n",
       "    <tr>\n",
       "      <th>109</th>\n",
       "      <td>Condition 1_Norm</td>\n",
       "      <td>5.957544e+03</td>\n",
       "    </tr>\n",
       "    <tr>\n",
       "      <th>8</th>\n",
       "      <td>Mas Vnr Area</td>\n",
       "      <td>5.588747e+03</td>\n",
       "    </tr>\n",
       "    <tr>\n",
       "      <th>9</th>\n",
       "      <td>Exter Qual</td>\n",
       "      <td>5.490472e+03</td>\n",
       "    </tr>\n",
       "    <tr>\n",
       "      <th>1</th>\n",
       "      <td>Lot Area</td>\n",
       "      <td>5.380391e+03</td>\n",
       "    </tr>\n",
       "    <tr>\n",
       "      <th>132</th>\n",
       "      <td>Roof Style_Hip</td>\n",
       "      <td>4.916392e+03</td>\n",
       "    </tr>\n",
       "    <tr>\n",
       "      <th>47</th>\n",
       "      <td>Fireplace * Qu</td>\n",
       "      <td>4.864497e+03</td>\n",
       "    </tr>\n",
       "    <tr>\n",
       "      <th>29</th>\n",
       "      <td>Kitchen Qual</td>\n",
       "      <td>4.757089e+03</td>\n",
       "    </tr>\n",
       "    <tr>\n",
       "      <th>193</th>\n",
       "      <td>Mo Sold_7</td>\n",
       "      <td>4.707854e+03</td>\n",
       "    </tr>\n",
       "    <tr>\n",
       "      <th>13</th>\n",
       "      <td>Bsmt Exposure</td>\n",
       "      <td>4.700416e+03</td>\n",
       "    </tr>\n",
       "    <tr>\n",
       "      <th>75</th>\n",
       "      <td>Lot Config_CulDSac</td>\n",
       "      <td>4.626562e+03</td>\n",
       "    </tr>\n",
       "    <tr>\n",
       "      <th>123</th>\n",
       "      <td>House Style_1Story</td>\n",
       "      <td>4.233381e+03</td>\n",
       "    </tr>\n",
       "    <tr>\n",
       "      <th>43</th>\n",
       "      <td>Screen Porch</td>\n",
       "      <td>3.922776e+03</td>\n",
       "    </tr>\n",
       "    <tr>\n",
       "      <th>191</th>\n",
       "      <td>Mo Sold_5</td>\n",
       "      <td>3.557779e+03</td>\n",
       "    </tr>\n",
       "    <tr>\n",
       "      <th>54</th>\n",
       "      <td>MS SubClass_30</td>\n",
       "      <td>3.528780e+03</td>\n",
       "    </tr>\n",
       "    <tr>\n",
       "      <th>184</th>\n",
       "      <td>Mo Sold_1</td>\n",
       "      <td>3.463539e+03</td>\n",
       "    </tr>\n",
       "    <tr>\n",
       "      <th>155</th>\n",
       "      <td>Exterior 2nd_CmentBd</td>\n",
       "      <td>3.256401e+03</td>\n",
       "    </tr>\n",
       "    <tr>\n",
       "      <th>82</th>\n",
       "      <td>Neighborhood_BrkSide</td>\n",
       "      <td>2.960469e+03</td>\n",
       "    </tr>\n",
       "    <tr>\n",
       "      <th>46</th>\n",
       "      <td>Bsmt Unf_prop</td>\n",
       "      <td>2.808215e+03</td>\n",
       "    </tr>\n",
       "    <tr>\n",
       "      <th>36</th>\n",
       "      <td>Garage Area</td>\n",
       "      <td>2.609641e+03</td>\n",
       "    </tr>\n",
       "    <tr>\n",
       "      <th>23</th>\n",
       "      <td>2nd Flr SF</td>\n",
       "      <td>2.596359e+03</td>\n",
       "    </tr>\n",
       "    <tr>\n",
       "      <th>168</th>\n",
       "      <td>Mas Vnr Type_Stone</td>\n",
       "      <td>2.516397e+03</td>\n",
       "    </tr>\n",
       "    <tr>\n",
       "      <th>195</th>\n",
       "      <td>Mo Sold_9</td>\n",
       "      <td>2.420818e+03</td>\n",
       "    </tr>\n",
       "    <tr>\n",
       "      <th>183</th>\n",
       "      <td>Garage Type_nan</td>\n",
       "      <td>2.343234e+03</td>\n",
       "    </tr>\n",
       "    <tr>\n",
       "      <th>30</th>\n",
       "      <td>TotRms AbvGrd</td>\n",
       "      <td>2.173714e+03</td>\n",
       "    </tr>\n",
       "    <tr>\n",
       "      <th>172</th>\n",
       "      <td>Foundation_Slab</td>\n",
       "      <td>2.020417e+03</td>\n",
       "    </tr>\n",
       "    <tr>\n",
       "      <th>40</th>\n",
       "      <td>Wood Deck SF</td>\n",
       "      <td>1.755693e+03</td>\n",
       "    </tr>\n",
       "    <tr>\n",
       "      <th>78</th>\n",
       "      <td>Lot Config_Inside</td>\n",
       "      <td>1.664636e+03</td>\n",
       "    </tr>\n",
       "    <tr>\n",
       "      <th>0</th>\n",
       "      <td>Lot Frontage</td>\n",
       "      <td>1.626362e+03</td>\n",
       "    </tr>\n",
       "    <tr>\n",
       "      <th>37</th>\n",
       "      <td>Garage Qual</td>\n",
       "      <td>1.581417e+03</td>\n",
       "    </tr>\n",
       "    <tr>\n",
       "      <th>27</th>\n",
       "      <td>Half Bath</td>\n",
       "      <td>1.574257e+03</td>\n",
       "    </tr>\n",
       "    <tr>\n",
       "      <th>25</th>\n",
       "      <td>Bsmt Full Bath</td>\n",
       "      <td>1.491759e+03</td>\n",
       "    </tr>\n",
       "    <tr>\n",
       "      <th>17</th>\n",
       "      <td>BsmtFin SF 2</td>\n",
       "      <td>1.458091e+03</td>\n",
       "    </tr>\n",
       "    <tr>\n",
       "      <th>167</th>\n",
       "      <td>Mas Vnr Type_None</td>\n",
       "      <td>1.444037e+03</td>\n",
       "    </tr>\n",
       "    <tr>\n",
       "      <th>175</th>\n",
       "      <td>Central Air_N</td>\n",
       "      <td>1.339321e+03</td>\n",
       "    </tr>\n",
       "    <tr>\n",
       "      <th>110</th>\n",
       "      <td>Condition 1_PosA</td>\n",
       "      <td>1.242645e+03</td>\n",
       "    </tr>\n",
       "    <tr>\n",
       "      <th>39</th>\n",
       "      <td>Paved Drive</td>\n",
       "      <td>1.210271e+03</td>\n",
       "    </tr>\n",
       "    <tr>\n",
       "      <th>16</th>\n",
       "      <td>BsmtFin Type 2</td>\n",
       "      <td>1.178839e+03</td>\n",
       "    </tr>\n",
       "    <tr>\n",
       "      <th>20</th>\n",
       "      <td>Heating QC</td>\n",
       "      <td>9.599844e+02</td>\n",
       "    </tr>\n",
       "    <tr>\n",
       "      <th>33</th>\n",
       "      <td>Garage Yr Blt</td>\n",
       "      <td>9.369146e+02</td>\n",
       "    </tr>\n",
       "    <tr>\n",
       "      <th>103</th>\n",
       "      <td>Neighborhood_Somerst</td>\n",
       "      <td>9.187684e+02</td>\n",
       "    </tr>\n",
       "    <tr>\n",
       "      <th>35</th>\n",
       "      <td>Garage Cars</td>\n",
       "      <td>9.020042e+02</td>\n",
       "    </tr>\n",
       "    <tr>\n",
       "      <th>41</th>\n",
       "      <td>Open Porch SF</td>\n",
       "      <td>8.704002e+02</td>\n",
       "    </tr>\n",
       "    <tr>\n",
       "      <th>11</th>\n",
       "      <td>Bsmt Qual</td>\n",
       "      <td>8.330894e+02</td>\n",
       "    </tr>\n",
       "    <tr>\n",
       "      <th>143</th>\n",
       "      <td>Exterior 1st_MetalSd</td>\n",
       "      <td>6.258234e+02</td>\n",
       "    </tr>\n",
       "    <tr>\n",
       "      <th>34</th>\n",
       "      <td>Garage Finish</td>\n",
       "      <td>5.086257e+02</td>\n",
       "    </tr>\n",
       "    <tr>\n",
       "      <th>26</th>\n",
       "      <td>Full Bath</td>\n",
       "      <td>4.954259e+02</td>\n",
       "    </tr>\n",
       "    <tr>\n",
       "      <th>2</th>\n",
       "      <td>Lot Shape</td>\n",
       "      <td>3.934179e+02</td>\n",
       "    </tr>\n",
       "    <tr>\n",
       "      <th>185</th>\n",
       "      <td>Mo Sold_10</td>\n",
       "      <td>1.054001e+02</td>\n",
       "    </tr>\n",
       "    <tr>\n",
       "      <th>44</th>\n",
       "      <td>Fence</td>\n",
       "      <td>7.248651e+01</td>\n",
       "    </tr>\n",
       "    <tr>\n",
       "      <th>7</th>\n",
       "      <td>Year Remod/Add</td>\n",
       "      <td>6.042233e+01</td>\n",
       "    </tr>\n",
       "    <tr>\n",
       "      <th>42</th>\n",
       "      <td>Enclosed Porch</td>\n",
       "      <td>5.326701e+01</td>\n",
       "    </tr>\n",
       "    <tr>\n",
       "      <th>66</th>\n",
       "      <td>MS Zoning_FV</td>\n",
       "      <td>4.578164e+01</td>\n",
       "    </tr>\n",
       "    <tr>\n",
       "      <th>189</th>\n",
       "      <td>Mo Sold_3</td>\n",
       "      <td>1.191752e+00</td>\n",
       "    </tr>\n",
       "    <tr>\n",
       "      <th>176</th>\n",
       "      <td>Central Air_Y</td>\n",
       "      <td>-3.956686e-12</td>\n",
       "    </tr>\n",
       "    <tr>\n",
       "      <th>165</th>\n",
       "      <td>Mas Vnr Type_BrkCmn</td>\n",
       "      <td>-6.425942e+00</td>\n",
       "    </tr>\n",
       "    <tr>\n",
       "      <th>194</th>\n",
       "      <td>Mo Sold_8</td>\n",
       "      <td>-3.030112e+01</td>\n",
       "    </tr>\n",
       "    <tr>\n",
       "      <th>121</th>\n",
       "      <td>House Style_1.5Fin</td>\n",
       "      <td>-1.489490e+02</td>\n",
       "    </tr>\n",
       "    <tr>\n",
       "      <th>10</th>\n",
       "      <td>Exter Cond</td>\n",
       "      <td>-1.988778e+02</td>\n",
       "    </tr>\n",
       "    <tr>\n",
       "      <th>192</th>\n",
       "      <td>Mo Sold_6</td>\n",
       "      <td>-2.315980e+02</td>\n",
       "    </tr>\n",
       "    <tr>\n",
       "      <th>77</th>\n",
       "      <td>Lot Config_FR3</td>\n",
       "      <td>-2.340536e+02</td>\n",
       "    </tr>\n",
       "    <tr>\n",
       "      <th>169</th>\n",
       "      <td>Foundation_BrkTil</td>\n",
       "      <td>-4.201331e+02</td>\n",
       "    </tr>\n",
       "    <tr>\n",
       "      <th>90</th>\n",
       "      <td>Neighborhood_IDOTRR</td>\n",
       "      <td>-5.260593e+02</td>\n",
       "    </tr>\n",
       "    <tr>\n",
       "      <th>187</th>\n",
       "      <td>Mo Sold_12</td>\n",
       "      <td>-5.476770e+02</td>\n",
       "    </tr>\n",
       "    <tr>\n",
       "      <th>190</th>\n",
       "      <td>Mo Sold_4</td>\n",
       "      <td>-7.497941e+02</td>\n",
       "    </tr>\n",
       "    <tr>\n",
       "      <th>21</th>\n",
       "      <td>Electrical</td>\n",
       "      <td>-8.480100e+02</td>\n",
       "    </tr>\n",
       "    <tr>\n",
       "      <th>188</th>\n",
       "      <td>Mo Sold_2</td>\n",
       "      <td>-9.736745e+02</td>\n",
       "    </tr>\n",
       "    <tr>\n",
       "      <th>186</th>\n",
       "      <td>Mo Sold_11</td>\n",
       "      <td>-1.126624e+03</td>\n",
       "    </tr>\n",
       "    <tr>\n",
       "      <th>70</th>\n",
       "      <td>Land Contour_Bnk</td>\n",
       "      <td>-1.379116e+03</td>\n",
       "    </tr>\n",
       "    <tr>\n",
       "      <th>69</th>\n",
       "      <td>MS Zoning_RM</td>\n",
       "      <td>-1.529405e+03</td>\n",
       "    </tr>\n",
       "    <tr>\n",
       "      <th>38</th>\n",
       "      <td>Garage Cond</td>\n",
       "      <td>-2.069603e+03</td>\n",
       "    </tr>\n",
       "    <tr>\n",
       "      <th>99</th>\n",
       "      <td>Neighborhood_OldTown</td>\n",
       "      <td>-2.103368e+03</td>\n",
       "    </tr>\n",
       "    <tr>\n",
       "      <th>50</th>\n",
       "      <td>MS SubClass_160</td>\n",
       "      <td>-2.119598e+03</td>\n",
       "    </tr>\n",
       "    <tr>\n",
       "      <th>159</th>\n",
       "      <td>Exterior 2nd_Plywood</td>\n",
       "      <td>-2.157632e+03</td>\n",
       "    </tr>\n",
       "    <tr>\n",
       "      <th>105</th>\n",
       "      <td>Neighborhood_Timber</td>\n",
       "      <td>-2.291523e+03</td>\n",
       "    </tr>\n",
       "    <tr>\n",
       "      <th>148</th>\n",
       "      <td>Exterior 1st_Wd Sdng</td>\n",
       "      <td>-2.497028e+03</td>\n",
       "    </tr>\n",
       "    <tr>\n",
       "      <th>141</th>\n",
       "      <td>Exterior 1st_HdBoard</td>\n",
       "      <td>-2.560320e+03</td>\n",
       "    </tr>\n",
       "    <tr>\n",
       "      <th>31</th>\n",
       "      <td>Fireplaces</td>\n",
       "      <td>-2.651959e+03</td>\n",
       "    </tr>\n",
       "    <tr>\n",
       "      <th>170</th>\n",
       "      <td>Foundation_CBlock</td>\n",
       "      <td>-2.714986e+03</td>\n",
       "    </tr>\n",
       "    <tr>\n",
       "      <th>112</th>\n",
       "      <td>Condition 1_RRAe</td>\n",
       "      <td>-2.817674e+03</td>\n",
       "    </tr>\n",
       "    <tr>\n",
       "      <th>107</th>\n",
       "      <td>Condition 1_Artery</td>\n",
       "      <td>-2.894070e+03</td>\n",
       "    </tr>\n",
       "    <tr>\n",
       "      <th>126</th>\n",
       "      <td>House Style_2Story</td>\n",
       "      <td>-3.096875e+03</td>\n",
       "    </tr>\n",
       "    <tr>\n",
       "      <th>28</th>\n",
       "      <td>Bedroom AbvGr</td>\n",
       "      <td>-3.330190e+03</td>\n",
       "    </tr>\n",
       "    <tr>\n",
       "      <th>178</th>\n",
       "      <td>Garage Type_Attchd</td>\n",
       "      <td>-3.372505e+03</td>\n",
       "    </tr>\n",
       "    <tr>\n",
       "      <th>12</th>\n",
       "      <td>Bsmt Cond</td>\n",
       "      <td>-3.440896e+03</td>\n",
       "    </tr>\n",
       "    <tr>\n",
       "      <th>86</th>\n",
       "      <td>Neighborhood_Edwards</td>\n",
       "      <td>-3.797327e+03</td>\n",
       "    </tr>\n",
       "    <tr>\n",
       "      <th>94</th>\n",
       "      <td>Neighborhood_NAmes</td>\n",
       "      <td>-3.835022e+03</td>\n",
       "    </tr>\n",
       "    <tr>\n",
       "      <th>102</th>\n",
       "      <td>Neighborhood_SawyerW</td>\n",
       "      <td>-4.726603e+03</td>\n",
       "    </tr>\n",
       "    <tr>\n",
       "      <th>84</th>\n",
       "      <td>Neighborhood_CollgCr</td>\n",
       "      <td>-5.109027e+03</td>\n",
       "    </tr>\n",
       "    <tr>\n",
       "      <th>204</th>\n",
       "      <td>Sale Type_WD</td>\n",
       "      <td>-5.111636e+03</td>\n",
       "    </tr>\n",
       "    <tr>\n",
       "      <th>106</th>\n",
       "      <td>Neighborhood_Veenker</td>\n",
       "      <td>-5.403934e+03</td>\n",
       "    </tr>\n",
       "    <tr>\n",
       "      <th>87</th>\n",
       "      <td>Neighborhood_Gilbert</td>\n",
       "      <td>-5.442497e+03</td>\n",
       "    </tr>\n",
       "    <tr>\n",
       "      <th>166</th>\n",
       "      <td>Mas Vnr Type_BrkFace</td>\n",
       "      <td>-5.874564e+03</td>\n",
       "    </tr>\n",
       "    <tr>\n",
       "      <th>96</th>\n",
       "      <td>Neighborhood_NWAmes</td>\n",
       "      <td>-6.182542e+03</td>\n",
       "    </tr>\n",
       "    <tr>\n",
       "      <th>49</th>\n",
       "      <td>MS SubClass_120</td>\n",
       "      <td>-7.705413e+03</td>\n",
       "    </tr>\n",
       "    <tr>\n",
       "      <th>196</th>\n",
       "      <td>Sale Type_COD</td>\n",
       "      <td>-8.760775e+03</td>\n",
       "    </tr>\n",
       "    <tr>\n",
       "      <th>177</th>\n",
       "      <td>Garage Type_2Types</td>\n",
       "      <td>-1.425673e+04</td>\n",
       "    </tr>\n",
       "    <tr>\n",
       "      <th>133</th>\n",
       "      <td>Roof Style_Mansard</td>\n",
       "      <td>-1.470775e+04</td>\n",
       "    </tr>\n",
       "  </tbody>\n",
       "</table>\n",
       "</div>"
      ],
      "text/plain": [
       "                      Feature          Coef\n",
       "104      Neighborhood_StoneBr  3.618283e+04\n",
       "98       Neighborhood_NridgHt  2.396818e+04\n",
       "48   Year Built * Gr Liv Area  2.286852e+04\n",
       "89       Neighborhood_GrnHill  1.947349e+04\n",
       "97       Neighborhood_NoRidge  1.736192e+04\n",
       "202             Sale Type_New  1.610440e+04\n",
       "71           Land Contour_HLS  1.443091e+04\n",
       "4                Overall Qual  1.347104e+04\n",
       "15               BsmtFin SF 1  1.166534e+04\n",
       "138      Exterior 1st_BrkFace  1.154574e+04\n",
       "111          Condition 1_PosN  1.097321e+04\n",
       "116            Bldg Type_1Fam  1.038497e+04\n",
       "6                  Year Built  9.064239e+03\n",
       "85       Neighborhood_Crawfor  8.281265e+03\n",
       "95       Neighborhood_NPkVill  7.204565e+03\n",
       "5                Overall Cond  6.532030e+03\n",
       "19              Total Bsmt SF  6.443974e+03\n",
       "60             MS SubClass_75  6.247014e+03\n",
       "109          Condition 1_Norm  5.957544e+03\n",
       "8                Mas Vnr Area  5.588747e+03\n",
       "9                  Exter Qual  5.490472e+03\n",
       "1                    Lot Area  5.380391e+03\n",
       "132            Roof Style_Hip  4.916392e+03\n",
       "47             Fireplace * Qu  4.864497e+03\n",
       "29               Kitchen Qual  4.757089e+03\n",
       "193                 Mo Sold_7  4.707854e+03\n",
       "13              Bsmt Exposure  4.700416e+03\n",
       "75         Lot Config_CulDSac  4.626562e+03\n",
       "123        House Style_1Story  4.233381e+03\n",
       "43               Screen Porch  3.922776e+03\n",
       "191                 Mo Sold_5  3.557779e+03\n",
       "54             MS SubClass_30  3.528780e+03\n",
       "184                 Mo Sold_1  3.463539e+03\n",
       "155      Exterior 2nd_CmentBd  3.256401e+03\n",
       "82       Neighborhood_BrkSide  2.960469e+03\n",
       "46              Bsmt Unf_prop  2.808215e+03\n",
       "36                Garage Area  2.609641e+03\n",
       "23                 2nd Flr SF  2.596359e+03\n",
       "168        Mas Vnr Type_Stone  2.516397e+03\n",
       "195                 Mo Sold_9  2.420818e+03\n",
       "183           Garage Type_nan  2.343234e+03\n",
       "30              TotRms AbvGrd  2.173714e+03\n",
       "172           Foundation_Slab  2.020417e+03\n",
       "40               Wood Deck SF  1.755693e+03\n",
       "78          Lot Config_Inside  1.664636e+03\n",
       "0                Lot Frontage  1.626362e+03\n",
       "37                Garage Qual  1.581417e+03\n",
       "27                  Half Bath  1.574257e+03\n",
       "25             Bsmt Full Bath  1.491759e+03\n",
       "17               BsmtFin SF 2  1.458091e+03\n",
       "167         Mas Vnr Type_None  1.444037e+03\n",
       "175             Central Air_N  1.339321e+03\n",
       "110          Condition 1_PosA  1.242645e+03\n",
       "39                Paved Drive  1.210271e+03\n",
       "16             BsmtFin Type 2  1.178839e+03\n",
       "20                 Heating QC  9.599844e+02\n",
       "33              Garage Yr Blt  9.369146e+02\n",
       "103      Neighborhood_Somerst  9.187684e+02\n",
       "35                Garage Cars  9.020042e+02\n",
       "41              Open Porch SF  8.704002e+02\n",
       "11                  Bsmt Qual  8.330894e+02\n",
       "143      Exterior 1st_MetalSd  6.258234e+02\n",
       "34              Garage Finish  5.086257e+02\n",
       "26                  Full Bath  4.954259e+02\n",
       "2                   Lot Shape  3.934179e+02\n",
       "185                Mo Sold_10  1.054001e+02\n",
       "44                      Fence  7.248651e+01\n",
       "7              Year Remod/Add  6.042233e+01\n",
       "42             Enclosed Porch  5.326701e+01\n",
       "66               MS Zoning_FV  4.578164e+01\n",
       "189                 Mo Sold_3  1.191752e+00\n",
       "176             Central Air_Y -3.956686e-12\n",
       "165       Mas Vnr Type_BrkCmn -6.425942e+00\n",
       "194                 Mo Sold_8 -3.030112e+01\n",
       "121        House Style_1.5Fin -1.489490e+02\n",
       "10                 Exter Cond -1.988778e+02\n",
       "192                 Mo Sold_6 -2.315980e+02\n",
       "77             Lot Config_FR3 -2.340536e+02\n",
       "169         Foundation_BrkTil -4.201331e+02\n",
       "90        Neighborhood_IDOTRR -5.260593e+02\n",
       "187                Mo Sold_12 -5.476770e+02\n",
       "190                 Mo Sold_4 -7.497941e+02\n",
       "21                 Electrical -8.480100e+02\n",
       "188                 Mo Sold_2 -9.736745e+02\n",
       "186                Mo Sold_11 -1.126624e+03\n",
       "70           Land Contour_Bnk -1.379116e+03\n",
       "69               MS Zoning_RM -1.529405e+03\n",
       "38                Garage Cond -2.069603e+03\n",
       "99       Neighborhood_OldTown -2.103368e+03\n",
       "50            MS SubClass_160 -2.119598e+03\n",
       "159      Exterior 2nd_Plywood -2.157632e+03\n",
       "105       Neighborhood_Timber -2.291523e+03\n",
       "148      Exterior 1st_Wd Sdng -2.497028e+03\n",
       "141      Exterior 1st_HdBoard -2.560320e+03\n",
       "31                 Fireplaces -2.651959e+03\n",
       "170         Foundation_CBlock -2.714986e+03\n",
       "112          Condition 1_RRAe -2.817674e+03\n",
       "107        Condition 1_Artery -2.894070e+03\n",
       "126        House Style_2Story -3.096875e+03\n",
       "28              Bedroom AbvGr -3.330190e+03\n",
       "178        Garage Type_Attchd -3.372505e+03\n",
       "12                  Bsmt Cond -3.440896e+03\n",
       "86       Neighborhood_Edwards -3.797327e+03\n",
       "94         Neighborhood_NAmes -3.835022e+03\n",
       "102      Neighborhood_SawyerW -4.726603e+03\n",
       "84       Neighborhood_CollgCr -5.109027e+03\n",
       "204             Sale Type_WD  -5.111636e+03\n",
       "106      Neighborhood_Veenker -5.403934e+03\n",
       "87       Neighborhood_Gilbert -5.442497e+03\n",
       "166      Mas Vnr Type_BrkFace -5.874564e+03\n",
       "96        Neighborhood_NWAmes -6.182542e+03\n",
       "49            MS SubClass_120 -7.705413e+03\n",
       "196             Sale Type_COD -8.760775e+03\n",
       "177        Garage Type_2Types -1.425673e+04\n",
       "133        Roof Style_Mansard -1.470775e+04"
      ]
     },
     "execution_count": 12,
     "metadata": {},
     "output_type": "execute_result"
    }
   ],
   "source": [
    "# create a table of features and their respective lasso coefficents\n",
    "coef_table = pd.DataFrame(list(zip(X_train.columns,lasso.coef_)), columns = ['Feature','Coef'])\n",
    "# sort our table to see our NON-zero coefficients\n",
    "coef_table[coef_table['Coef']!= 0].sort_values(by='Coef', ascending=False)"
   ]
  },
  {
   "cell_type": "code",
   "execution_count": 13,
   "metadata": {
    "scrolled": true
   },
   "outputs": [],
   "source": [
    "# create a column for the absolute value of each coefficient, disregarding sign\n",
    "coef_table['abs_coef'] = coef_table['Coef'].map(abs)"
   ]
  },
  {
   "cell_type": "markdown",
   "metadata": {},
   "source": [
    "Lasso has returned us 115 variables with non-zero coefficients. This means it has cut down our variables by almost half. Interestingly, our interaction term of Year Built * Gr Liv area is one of our strongest variables. It should be probable then that there are other interaction terms hiding out there that are strong predictors.\n",
    "***\n",
    "Summary table of results:\n",
    "\n",
    "|Model|Alpha|Train RMSE|Validation RMSE|\n",
    "|---|---|---|---|\n",
    "|Lasso with n_alphas=100|63.42|22069.57|33338.92\n",
    "|Ridge|12.75|21974.65|34909.88\n",
    "|MLR|na|22544.14|2.28e^17\n",
    "|Baseline(mean)|na|na|79511.73|\n",
    "\n",
    "All our models show severe signs of overfitting, with MLR being the worst of all. Even though we get decent results on our train set, our RMSE increases by 50% just by running our models on the validation set. This shows that we need to do something to reduce our models' variance, which is what we will do next by removing predictors."
   ]
  },
  {
   "cell_type": "markdown",
   "metadata": {},
   "source": [
    "### Repeat the process\n",
    "After getting back the useful predictors from our Lasso model, I iterated through all the models again using different methods to pick the top 30 useful predictors each time. This is a summary of my exploration:\n",
    "\n",
    "1. Selected top 30 predictors by p-values\n",
    "    - I ran statsmodel.api.OLS and extracted the p-values for all the 115 coefficients\n",
    "    - After sorting the p-values from small to large, I selected the 30 coefficients with the smallest p-values\n",
    "    - Obtained validation RMSEs of around 26-27k\n",
    "2. Selected top 30 predictors by absolute coefficient size \n",
    "    - Was an improvement over the first round and obtained validation RMSEs across the board of around 25-26k\n",
    "3. Selected top 30 predictors with positive coefficients\n",
    "    - Obtained validation RMSEs of 24k across the board\n",
    "    - Kaggle scores as you will see later are around 29k\n",
    "\n",
    "My reasoning for method 1 is that Statsmodel OLS can differentiate between significant and non-significant predictors. Predictors with the smallest p-values should be the most significant, and hence should be able to create a strongly predictive model. While the results weren't bad, they weren't as good as the method 2 and 3. This could be because OLS assumes an unbiased estimator, whereas the coefficients we received back from Lasso were inherently biased. Method 2's reasoning is that the coefficients that Lasso allows to remain large should be coefficients that it feels are most useful for prediction. We see that it is better than method 1, but not as good as method 3. You can see a comparison of these methods in the [Appendix](#Appendix).\n",
    "\n",
    "Ultimately though, all the validation RMSEs were not too drastically different. This suggests that all 3 methods might be similarly good at producing generalizable models, and differences in scores we see might simply come down to luck based on the dataset we ended up with. If we had gotten different data, or even split the data differently, with different test sizes, or a different random state, we would probably have gotten different results. \n",
    "\n",
    "At the end of the day, I should choose my predictors based on what gives me the best validation RMSE score. Since that was done via method 3, the predictors we get from it shall be what we run on our models."
   ]
  },
  {
   "cell_type": "code",
   "execution_count": 14,
   "metadata": {},
   "outputs": [],
   "source": [
    "# select the top 30 predictors and save them to a list\n",
    "X_round2 = list(coef_table.sort_values(by='Coef', ascending=False).head(30)['Feature'])"
   ]
  },
  {
   "cell_type": "code",
   "execution_count": 15,
   "metadata": {},
   "outputs": [],
   "source": [
    "# subset our existing predictors\n",
    "X_r2 = X_train[X_round2]\n",
    "X_val_r2 = X_val[X_round2]"
   ]
  },
  {
   "cell_type": "code",
   "execution_count": 16,
   "metadata": {},
   "outputs": [
    {
     "name": "stdout",
     "output_type": "stream",
     "text": [
      "LinReg CV mean: -24454.779484398507\n",
      "LinReg RMSE on train set: 23712.354396000053\n",
      "LinReg RMSE on validation set: 24625.626067014233\n"
     ]
    }
   ],
   "source": [
    "# run our linear regression model\n",
    "lr = LinearRegression()\n",
    "lr.fit(X_r2,y_train)\n",
    "print(\"LinReg CV mean: {}\".format(cross_val_score(lr, X_r2, y_train, cv=10, scoring = 'neg_root_mean_squared_error').mean()))\n",
    "y_preds = lr.predict(X_r2)\n",
    "print(\"LinReg RMSE on train set: {}\".format(mean_squared_error(y_train, y_preds, squared=False)))\n",
    "y_val_preds = lr.predict(X_val_r2)\n",
    "print(\"LinReg RMSE on validation set: {}\".format(mean_squared_error(y_val, y_val_preds, squared=False)))"
   ]
  },
  {
   "cell_type": "markdown",
   "metadata": {},
   "source": [
    "Not bad. Our linear regression model has performed **significantly** better than the first time round by removing many of the unimportant, noisy variables. We also see that our scores on our validation set are no longer way off from our train set, indicating that we have significantly reduced overfitting."
   ]
  },
  {
   "cell_type": "code",
   "execution_count": 17,
   "metadata": {},
   "outputs": [
    {
     "name": "stdout",
     "output_type": "stream",
     "text": [
      "Optimal alpha: 2.1214517849106302\n",
      "Ridge CV mean: -24433.518507996312\n",
      "Ridge RMSE on train set: 23819.91666214308\n",
      "Ridge RMSE on validation set: 24565.27223474124\n"
     ]
    }
   ],
   "source": [
    "# run our ridge model\n",
    "ridge, ridge_cv = ridge_runner(X_r2, X_val_r2)"
   ]
  },
  {
   "cell_type": "markdown",
   "metadata": {},
   "source": [
    "As could be expected, our Ridge also does better than the first round, but it is now not noticeably that much better than our linear regression model. This COULD indicate that our predictors are doing quite a good job by themselves, and we can see that indeed our alpha, or strength of penalty, decreased from 12.75 to 2.12 this time, meaning that ridge did not feel the need to penalize our coefficients as much this time round."
   ]
  },
  {
   "cell_type": "markdown",
   "metadata": {},
   "source": [
    "#### Side note:\n",
    "For context, when running LassoCV with default eps and n_alphas arguments, the best alpha returned was the smallest alpha out of the 100 it tests. This suggests that it actually wants to go lower. We thus set the eps to a smaller value, letting LassoCV explore a larger range of alphas. When it settles on an alpha that is neither the max or minimum alpha in its range, we finetune the alpha selection by iterating over a small range around the alpha given, using small steps in between. This helps us select the most accurate alpha possible."
   ]
  },
  {
   "cell_type": "code",
   "execution_count": 19,
   "metadata": {
    "scrolled": true
   },
   "outputs": [
    {
     "name": "stdout",
     "output_type": "stream",
     "text": [
      "Optimal alpha: 21.255643584114274\n",
      "Lasso CV mean: -24456.628262994396\n",
      "Lasso RMSE on train set: 23734.657905023734\n",
      "Lasso RMSE on validation set: 24500.184792224463\n"
     ]
    },
    {
     "data": {
      "text/plain": [
       "array([6.34193423e+04, 5.77853427e+04, 5.26518522e+04, 4.79744067e+04,\n",
       "       4.37124927e+04, 3.98291953e+04, 3.62908793e+04, 3.30668976e+04,\n",
       "       3.01293256e+04, 2.74527194e+04, 2.50138954e+04, 2.27917299e+04,\n",
       "       2.07669754e+04, 1.89220946e+04, 1.72411078e+04, 1.57094553e+04,\n",
       "       1.43138706e+04, 1.30422658e+04, 1.18836269e+04, 1.08279182e+04,\n",
       "       9.86599579e+03, 8.98952792e+03, 8.19092303e+03, 7.46326401e+03,\n",
       "       6.80024820e+03, 6.19613289e+03, 5.64568552e+03, 5.14413838e+03,\n",
       "       4.68714731e+03, 4.27075406e+03, 3.89135204e+03, 3.54565505e+03,\n",
       "       3.23066883e+03, 2.94366511e+03, 2.68215802e+03, 2.44388249e+03,\n",
       "       2.22677471e+03, 2.02895418e+03, 1.84870748e+03, 1.68447340e+03,\n",
       "       1.53482943e+03, 1.39847941e+03, 1.27424236e+03, 1.16104218e+03,\n",
       "       1.05789839e+03, 9.63917613e+02, 8.78285829e+02, 8.00261336e+02,\n",
       "       7.29168325e+02, 6.64391020e+02, 6.05368353e+02, 5.51589097e+02,\n",
       "       5.02587442e+02, 4.57938959e+02, 4.17256924e+02, 3.80188969e+02,\n",
       "       3.46414029e+02, 3.15639561e+02, 2.87599012e+02, 2.62049509e+02,\n",
       "       2.38769753e+02, 2.17558106e+02, 1.98230843e+02, 1.80620562e+02,\n",
       "       1.64574729e+02, 1.49954363e+02, 1.36632831e+02, 1.24494747e+02,\n",
       "       1.13434977e+02, 1.03357726e+02, 9.41757106e+01, 8.58094000e+01,\n",
       "       7.81863294e+01, 7.12404714e+01, 6.49116643e+01, 5.91450909e+01,\n",
       "       5.38908040e+01, 4.91032935e+01, 4.47410923e+01, 4.07664169e+01,\n",
       "       3.71448408e+01, 3.38449955e+01, 3.08382994e+01, 2.80987099e+01,\n",
       "       2.56024979e+01, 2.33280426e+01, 2.12556436e+01, 1.93673508e+01,\n",
       "       1.76468087e+01, 1.60791149e+01, 1.46506906e+01, 1.33491636e+01,\n",
       "       1.21632607e+01, 1.10827102e+01, 1.00981528e+01, 9.20106070e+00,\n",
       "       8.38366382e+00, 7.63888223e+00, 6.96026499e+00, 6.34193423e+00])"
      ]
     },
     "execution_count": 19,
     "metadata": {},
     "output_type": "execute_result"
    }
   ],
   "source": [
    "# we're going to run LassoCV with a large range of alphas\n",
    "lasso, lasso_cv = lasso_runner(X_r2, X_val_r2, eps=0.0001)\n",
    "lasso_cv.alphas_"
   ]
  },
  {
   "cell_type": "code",
   "execution_count": 20,
   "metadata": {},
   "outputs": [
    {
     "name": "stdout",
     "output_type": "stream",
     "text": [
      "Optimal alpha: 21.5540000000019\n",
      "Lasso CV mean: -24456.775019057943\n",
      "Lasso RMSE on train set: 23735.287596709277\n",
      "Lasso RMSE on validation set: 24499.186358450745\n"
     ]
    }
   ],
   "source": [
    "# lasso_cv2 gave us an alpha of 21.26, which is not the smallest alpha tested. \n",
    "# this tells us that this alpha is near the minima for cv means. we finetune this alpha.\n",
    "l_alphas = l_alphas = np.arange(20, 24, 0.001)\n",
    "lasso, lasso_cv = lasso_runner(X_r2, X_val_r2,l_alphas = l_alphas)\n",
    "# save our finetuned alpha\n",
    "optimal_lalpha = lasso_cv.alpha_;"
   ]
  },
  {
   "cell_type": "markdown",
   "metadata": {},
   "source": [
    "As you can see, by finetuning the alpha given to us by LassoCV, we can improve our validation scores a tiny bit. The important thing to ensure is that LassoCV is searching over a large enough range of alphas. If LassoCV returns either the biggest or smallest alpha out of the entire range it searches, we know that we need to extend our search in that respective direction."
   ]
  },
  {
   "cell_type": "markdown",
   "metadata": {},
   "source": [
    "#### ElasticNet\n",
    "Let's now run an ElasticNetCV to see if how it regularizes our predictors differently."
   ]
  },
  {
   "cell_type": "code",
   "execution_count": 21,
   "metadata": {},
   "outputs": [],
   "source": [
    "# these ratios were obtained after a few iterations\n",
    "l1_ratios = [0.98,0.985,0.99,0.995,1]"
   ]
  },
  {
   "cell_type": "code",
   "execution_count": 22,
   "metadata": {},
   "outputs": [],
   "source": [
    "def enet_runner(X_train, X_val, y=y_train, y_val=y_val, l1_ratios=l1_ratios, enet_alphas=None, n_alphas=100, eps=0.001):\n",
    "    if enet_alphas is None:\n",
    "        enet_cv = ElasticNetCV(n_alphas=n_alphas, l1_ratio=l1_ratios, eps=eps)\n",
    "    else: \n",
    "        enet_cv = ElasticNetCV(alphas=enet_alphas, l1_ratio=l1_ratios)\n",
    "    enet_cv.fit(X_train, y)\n",
    "    # extract optimal alpha and l1_ratio\n",
    "    optimal_lalpha = enet_cv.alpha_\n",
    "    optimal_l1 = enet_cv.l1_ratio_\n",
    "    # instantiate new model with optimal alpha\n",
    "    enet = ElasticNet(alpha=optimal_lalpha, l1_ratio=optimal_l1)\n",
    "    enet.fit(X_train, y)\n",
    "    # run cross_val score using the optimal alpha found\n",
    "    print(\"Optimal alpha: {}\".format(optimal_lalpha))\n",
    "    print(\"Optimal l1 ratio: {}\".format(optimal_l1))\n",
    "    print(\"Enet CV mean: {}\".format(cross_val_score(enet, X_train, y, cv=10, scoring = 'neg_root_mean_squared_error').mean()))\n",
    "    y_preds = ridge.predict(X_train)\n",
    "    print(\"Enet RMSE on train set: {}\".format(mean_squared_error(y, y_preds, squared=False)))\n",
    "    y_val_preds = ridge.predict(X_val)\n",
    "    print(\"Enet RMSE on validation set: {}\".format(mean_squared_error(y_val, y_val_preds, squared=False)))\n",
    "    return enet, enet_cv"
   ]
  },
  {
   "cell_type": "code",
   "execution_count": 23,
   "metadata": {},
   "outputs": [
    {
     "name": "stdout",
     "output_type": "stream",
     "text": [
      "Optimal alpha: 21.255643584114274\n",
      "Optimal l1 ratio: 1.0\n",
      "Enet CV mean: -24456.628262994396\n",
      "Enet RMSE on train set: 23819.91666214308\n",
      "Enet RMSE on validation set: 24565.27223474124\n"
     ]
    }
   ],
   "source": [
    "enet, enet_cv = enet_runner(X_r2, X_val_r2, l1_ratios=l1_ratios, eps=0.0001)"
   ]
  },
  {
   "cell_type": "markdown",
   "metadata": {},
   "source": [
    "Our ElasticNetCV chose an l1 ratio of 1.0, meaning it opted to run purely on Lasso regularization. As such, we can disregard the use of this model and simply use our Lasso model."
   ]
  },
  {
   "cell_type": "markdown",
   "metadata": {},
   "source": [
    "### Visualize our predictions\n",
    "We'll plot a graph of our predicted vs actual values of SalePrice for our validation set, using the best model we got so far, our Lasso with alpha=21.55"
   ]
  },
  {
   "cell_type": "code",
   "execution_count": 24,
   "metadata": {},
   "outputs": [
    {
     "data": {
      "image/png": "[encoded data removed]",
      "text/plain": [
       "<Figure size 576x576 with 1 Axes>"
      ]
     },
     "metadata": {
      "needs_background": "light"
     },
     "output_type": "display_data"
    }
   ],
   "source": [
    "y_preds = lasso.predict(X_val_r2)\n",
    "plt.figure(figsize=(8,8))\n",
    "\n",
    "# Generate a scatterplot of predicted values versus actual values.\n",
    "plt.scatter(y_preds, y_val, s=5, alpha = 0.5)\n",
    "\n",
    "# Plot a line.\n",
    "plt.plot([0, np.max(y_val)],\n",
    "         [0, np.max(y_val)],\n",
    "         color = 'black')\n",
    "\n",
    "# Tweak title and axis labels.\n",
    "plt.xlabel(\"Predicted Values: $\\hat{y}$\")\n",
    "plt.ylabel(\"Actual Values: $y$\")\n",
    "plt.title('Predicted Values vs. Actual Values');"
   ]
  },
  {
   "cell_type": "markdown",
   "metadata": {},
   "source": [
    "All things considered, our predictions do seem to cluster around the regression line quite well. We notice that as actual values of sale price increase, our predictions start deviating further more. The inaccuracy of our predictions at that range of sale prices might be due to the fact that we do not have as much data on ultra expensive properties. Looking above, we can see that there are relatively very few houses over the 400k price mark, whereas there are hundreds and hundreds below the 200k mark. To improve our model for predictions \\\\$300k and above we would like to have more data to train on."
   ]
  },
  {
   "cell_type": "markdown",
   "metadata": {},
   "source": [
    "## Run our 2nd round models on our test data to submit to Kaggle\n",
    "Let's now bring in our test data to run these models on. We use the 30 predictors that we obtained above."
   ]
  },
  {
   "cell_type": "code",
   "execution_count": 25,
   "metadata": {},
   "outputs": [],
   "source": [
    "# read in our test set.\n",
    "df_test = pd.read_csv('./datasets/test_clean_dummy.csv')\n",
    "# unfortunately, when we did our preprocessing in the previous notebook, we ended up deleted our ID column.\n",
    "# we'll just replace the Id column by reading in the base test set.\n",
    "basetest = pd.read_csv('./datasets/test.csv')\n",
    "# and pull over the Id column\n",
    "df_test['Id'] = basetest['Id']"
   ]
  },
  {
   "cell_type": "markdown",
   "metadata": {},
   "source": [
    "Let's start our best model, Lasso"
   ]
  },
  {
   "cell_type": "code",
   "execution_count": 26,
   "metadata": {},
   "outputs": [],
   "source": [
    "X_test = df_test[X_round2]"
   ]
  },
  {
   "cell_type": "code",
   "execution_count": 27,
   "metadata": {},
   "outputs": [],
   "source": [
    "# create our predictions using our finetuned alpha\n",
    "test_preds = lasso.predict(X_test)\n",
    "# create a csv to submit to kaggle\n",
    "kaggle_lasso = pd.DataFrame({'ID':df_test['Id'],\n",
    "                             'SalePrice': test_preds})\n",
    "kaggle_lasso.to_csv('./datasets/kaggle_lasso_ownalpha.csv',index=False)"
   ]
  },
  {
   "cell_type": "markdown",
   "metadata": {},
   "source": [
    "Run our Ridge model"
   ]
  },
  {
   "cell_type": "code",
   "execution_count": 28,
   "metadata": {},
   "outputs": [],
   "source": [
    "test_preds = ridge.predict(X_test)\n",
    "kaggle_ridge = pd.DataFrame({'ID':df_test['Id'],\n",
    "                             'SalePrice': test_preds})\n",
    "kaggle_ridge.to_csv('./datasets/kaggle_ridge2.csv',index=False)"
   ]
  },
  {
   "cell_type": "markdown",
   "metadata": {},
   "source": [
    "Run our MLR model just for good measure"
   ]
  },
  {
   "cell_type": "code",
   "execution_count": 29,
   "metadata": {},
   "outputs": [],
   "source": [
    "test_preds = lr.predict(X_test)\n",
    "kaggle_mlr = pd.DataFrame({'ID':df_test['Id'],\n",
    "                             'SalePrice': test_preds})\n",
    "kaggle_mlr.to_csv('./datasets/kaggle_mlr.csv',index=False)"
   ]
  },
  {
   "cell_type": "markdown",
   "metadata": {},
   "source": [
    "## Model results\n",
    "These are our new results:\n",
    "\n",
    "|Model|Alpha|Train RMSE|Validation RMSE|Kaggle RMSE|\n",
    "|---|---|---|---|---|\n",
    "|Lasso|21.55|23735.29|24499.2|29382.85|\n",
    "|Ridge|2.12|23819.92|24565.27|29357.91|\n",
    "|MLR|na|23712.35|24625.63|29457.31|\n",
    "|Baseline(mean)|na|na|79511.73|83689.59|\n",
    "\n",
    "Interestingly, our Ridge does very slightly better than our Lasso. This might simply be due us having a small dataset, so the results might just be down to luck. But the most important improvement is that all 3 types of models are no longer severely overfitting the data, as shown by the small difference in RMSE between our train and validation scores. This shows that we have succeeded in improving the generalizability of our models, although there is room for improvement as we can see that our Kaggle scores are not doing as well as our validation scores."
   ]
  },
  {
   "cell_type": "markdown",
   "metadata": {},
   "source": [
    "### Retraining our best model on the entire training set\n",
    "\n",
    "At the beginning, we split our data into training and validation sets to facilitate our testing. Now that it's time to ship out our best model to production, it's time to retrain our model on our original unsplit dataset. Having more data should allow our model to make better predictions.\n",
    "\n",
    "In the real world, we would not have had access to Kaggle's results. As such, based on our validation scores, our Lasso with alpha=21.55 performed the best with an RMSE of 24499.2. We'll train this model on our original train set."
   ]
  },
  {
   "cell_type": "code",
   "execution_count": 30,
   "metadata": {
    "scrolled": true
   },
   "outputs": [],
   "source": [
    "# rejoin our train and validation sets together and select the 30 best predictors\n",
    "y_full = pd.concat([y_train, y_val])\n",
    "X_full = pd.concat([X_train, X_val])\n",
    "X_full_30 = X_full[X_round2]"
   ]
  },
  {
   "cell_type": "code",
   "execution_count": 31,
   "metadata": {},
   "outputs": [
    {
     "data": {
      "text/plain": [
       "Lasso(alpha=21.5540000000019)"
      ]
     },
     "execution_count": 31,
     "metadata": {},
     "output_type": "execute_result"
    }
   ],
   "source": [
    "# we instantiate a new lasso model and fit it on our new data\n",
    "lasso = Lasso(alpha = optimal_lalpha)\n",
    "lasso.fit(X_full_30, y_full)"
   ]
  },
  {
   "cell_type": "code",
   "execution_count": 32,
   "metadata": {},
   "outputs": [],
   "source": [
    "# create our predictions using alpha=21.55\n",
    "test_preds = lasso.predict(X_test)\n",
    "# create a csv to submit to kaggle\n",
    "kaggle_lasso = pd.DataFrame({'ID':df_test['Id'],\n",
    "                             'SalePrice': test_preds})\n",
    "kaggle_lasso.to_csv('./datasets/kaggle_lasso_fulltrain.csv',index=False)"
   ]
  },
  {
   "cell_type": "markdown",
   "metadata": {},
   "source": [
    "**Our final Kaggle score is 29210.85**. This is marginally better than our previous Lasso score that we trained on our split training set. The slight improvement can be attributed to the fact that our final model was retrained on the full training data we received, ~2000 rows, vs the ~1500 rows we've been using throughout due to our train_test_split. However, we should still note that our Kaggle score is some distance away from our validation RMSE; as such we know that there is still room for improvement in our model to reduce overfitting."
   ]
  },
  {
   "cell_type": "markdown",
   "metadata": {},
   "source": [
    "## Discussion\n",
    "At the beginning of this project, we set out to build a model to predict house prices based on a set of predictor variables. After much iteration and evaluation of Multiple Linear Regression, Ridge, Lasso, and ElasticNet models, we found that the Lasso model performed the best. As the Lasso model is a biased estimator, we are unable to make inferences about the underlying predictor variables because inference requires the use of an **unbiased** linear estimator that fulfills the 4 LINE assumptions:\n",
    "- Linear relationship between predictors and target\n",
    "- Independence of residuals\n",
    "- Normality of residuals\n",
    "- Equality of variance of residuals\n",
    "\n",
    "Nonetheless, as our goal was to build a predictive model, we should be satisfied with our end results. \n",
    "\n",
    "Let's look at the final 30 predictors we used."
   ]
  },
  {
   "cell_type": "code",
   "execution_count": 33,
   "metadata": {},
   "outputs": [
    {
     "data": {
      "image/png": "[encoded data removed]",
      "text/plain": [
       "<Figure size 576x864 with 1 Axes>"
      ]
     },
     "metadata": {
      "needs_background": "light"
     },
     "output_type": "display_data"
    }
   ],
   "source": [
    "top_30_idx = coef_table.sort_values(by='Coef', ascending=False).head(30)['Feature'].index\n",
    "fig, ax = plt.subplots(figsize=(8,12))\n",
    "g = sns.barplot(data = coef_table.loc[top_30_idx], \n",
    "                x='Coef', y='Feature', ax=ax, palette='winter')\n",
    "g.set_title('Coefficients of top 30 predictors');"
   ]
  },
  {
   "cell_type": "markdown",
   "metadata": {},
   "source": [
    "Let's interpret these results. What our model says is that for a unit increase in our predictor, the SalePrice for that house will increase by the value of the coefficient. As our neighborhood variables are binary, essentially the model says, for example, \"if your house is in Stone Brook, your sale price will increase by \\\\$36182.\" When interpreting the coefficient for our interaction term we have to be careful to not think that a unit increase in either Year Built or above ground living area will lead to a \\\\$23968 increase in sale price. Rather, the interaction term as a whole needs to increase by 1 unit for sale price to increase by \\\\$23968.\n",
    "\n",
    "The top 5 predictors we got from Lasso include 4 binary Neighborhood variables. This shows that the most important predictor for housing prices remains the neighborhood the house is in. Locally, we know this to be true if we think about District 11 houses, or anything in the Bukit Timah area. If you tell someone that you're buying a house there, people already have a rough idea how much your house is going to cost. This model suggests that knowing the neighborhood that a house is located already allows us to make preliminary predictions of sale prices.\n",
    "\n",
    "Another important class of predictors are square footage related variables. We see that basement size, lot size, and the interaction between above ground living area and year built feature prominently in our list. This is not unexpected. After all, one of the first things people ask about a house would be \"How big is it?\" We also see quality related predictors being important. This is also a reasonable assumption, as well-built houses with good material and workmanship are likely to last longer and require less rebuilding or fixing in the future, and as such fairly command a higher premium.\n",
    "\n",
    "A final note is that because we used a Lasso model, we are producing biased estimates of the true coefficients of these variables. Recall that Lasso regularization attempts to bias coefficients towards 0 in order to reduce prediction error. As such, we cannot infer from our Lasso coefficients what the true coefficients will be. At the same time, we are also unable to infer a variable's significance in predicting sale price. \n",
    "\n",
    "A meta observation to make is that while we only engineered 2 interaction terms, BOTH these terms ended up being chosen by our Lasso model. My intuition is that much of the variation in house prices could be explained by even more of these interaction terms, and apart from simply gathering data on more variables, a logical next step would be to comprehensively explore existing interactions between our variables to see if our hypothesis holds true."
   ]
  },
  {
   "cell_type": "markdown",
   "metadata": {},
   "source": [
    "## Recommendations\n",
    "Based on our model we can recommend a few concrete actions to different groups of market participants to consider based on their objectives. **For buyers** for whom location is not a big issue, we recommend looking at properties located outside neighborhoods such as Stone Brook and Northridge Heights. You would be able to get house of significantly better quality and size for the same price as a property in one of those expensive neighborhoods. **For sellers** looking to increase the value of their house, we recommend either expanding the liveable area of their property, or to invest in upgrading the quality and finish of their house. **For developers** looking to build their next profitable project, we recommend developing them within neighborhoods like Stone Brook and Northridge Heights.\n",
    "\n",
    "As far as improving our model goes, there are some further actions we can take. Firstly, as mentioned above, we noticed that interaction effects between our existing variables may help explain more of the variation in housing prices. Given more time, we can exhaustively examine all first-order interactions and run Recursive Feature Elimination to select important interaction terms. After all, this is real-world data, and we should not expect everything to be neatly explained solely by main effects.\n",
    "\n",
    "Secondly, we could consider creating predictive models for each neighborhood. Seeing as how neighborhood features heavily in our top 30 predictors, it's possible that housing prices in different neighborhoods are differently influenced by our other predictors. What may be important in one neighborhood may not be important in another. As such, if one has a unique model for each neighborhood, it might be possible to capture the variation inherent in each neighborhood, allowing you to more accurately predict housing prices.\n",
    "\n",
    "Thirdly, for this project we wanted to keep our model complexity low, hence we capped our predictors at 30. However, if are seeking to maximize the predictive power of our model, we can experiment with changing the model's complexity by adding or taking away predictors. As shown in the [Appendix](#Appendix), combinations of 45 and 60 predictors appear to reduce our validation RMSE even further. More iterations can be done to find out what is the optimal balance between bias and variance. As we recall, the original 115 predictors given by Lasso resulted in a train score of 22k but a validation score of 33k. The optimal balance thus likely lies somewhere between 60 and 115 predictors.\n"
   ]
  },
  {
   "cell_type": "markdown",
   "metadata": {},
   "source": [
    "### Appendix\n",
    "These are some extra models I ran to test out certain things. I tested either using top positive coefficients or top absolute coefficients, and I test these out with 30, 45, or 60 predictors. You can observe that increasing model complexity appears to improve scores for now."
   ]
  },
  {
   "cell_type": "code",
   "execution_count": 34,
   "metadata": {
    "scrolled": true
   },
   "outputs": [
    {
     "name": "stdout",
     "output_type": "stream",
     "text": [
      "Optimal alpha: 53.314439712003164\n",
      "Lasso CV mean: -25336.76240182651\n",
      "Lasso RMSE on train set: 24578.782252618807\n",
      "Lasso RMSE on validation set: 25652.600596535063\n"
     ]
    }
   ],
   "source": [
    "# top 30 asbolute coefficient \n",
    "top_30_abs = list(coef_table[coef_table['Coef']!=0].sort_values(by='abs_coef', ascending=False).head(30)['Feature'])\n",
    "l_alphas = l_alphas = np.arange(50, 55, 0.001)\n",
    "lasso3, lasso_cv3 = lasso_runner(X_train[top_30_abs], X_val[top_30_abs],n_alphas=200, eps=0.0001)\n",
    "# test_preds = lasso3.predict(df_test[top_30_abs])\n",
    "# # create a csv to submit to kaggle\n",
    "# kaggle_lasso = pd.DataFrame({'ID':df_test['Id'],\n",
    "#                              'SalePrice': test_preds})\n",
    "# kaggle_lasso.to_csv('./datasets/kaggle_lasso_30_abs.csv',index=False)"
   ]
  },
  {
   "cell_type": "code",
   "execution_count": 35,
   "metadata": {
    "scrolled": true
   },
   "outputs": [
    {
     "name": "stdout",
     "output_type": "stream",
     "text": [
      "Optimal alpha: 10.551817265617263\n",
      "Lasso CV mean: -24118.39057722564\n",
      "Lasso RMSE on train set: 23092.067818102507\n",
      "Lasso RMSE on validation set: 23575.942824855232\n"
     ]
    }
   ],
   "source": [
    "# top 45 positive coefficients\n",
    "top_45_pos = list(coef_table[coef_table['Coef']!=0].sort_values(by='Coef', ascending=False).head(45)['Feature'])\n",
    "l_alphas = l_alphas = np.arange(9, 11, 0.001)\n",
    "lasso3, lasso_cv3 = lasso_runner(X_train[top_45_pos], X_val[top_45_pos],n_alphas=200, eps=0.0001)\n",
    "# test_preds = lasso3.predict(df_test[top_45_pos])\n",
    "# # create a csv to submit to kaggle\n",
    "# kaggle_lasso = pd.DataFrame({'ID':df_test['Id'],\n",
    "#                              'SalePrice': test_preds})\n",
    "# kaggle_lasso.to_csv('./datasets/kaggle_lasso_45.csv',index=False)"
   ]
  },
  {
   "cell_type": "code",
   "execution_count": 36,
   "metadata": {},
   "outputs": [
    {
     "name": "stdout",
     "output_type": "stream",
     "text": [
      "Optimal alpha: 27.8893128686867\n",
      "Lasso CV mean: -24035.36614897709\n",
      "Lasso RMSE on train set: 22933.63610544759\n",
      "Lasso RMSE on validation set: 24042.568420903033\n"
     ]
    }
   ],
   "source": [
    "# top 45 absolute coefficients\n",
    "top_45_abs = list(coef_table[coef_table['Coef']!=0].sort_values(by='abs_coef', ascending=False).head(45)['Feature'])\n",
    "l_alphas = l_alphas = np.arange(26,30, 0.001)\n",
    "lasso4, lasso_cv4 = lasso_runner(X_train[top_45_abs], X_val[top_45_abs],n_alphas=200, eps=0.0001)\n",
    "# test_preds = lasso4.predict(df_test[top_45_abs])\n",
    "# # create a csv to submit to kaggle\n",
    "# kaggle_lasso = pd.DataFrame({'ID':df_test['Id'],\n",
    "#                              'SalePrice': test_preds})\n",
    "# kaggle_lasso.to_csv('./datasets/kaggle_lasso_45_abs.csv',index=False)"
   ]
  },
  {
   "cell_type": "code",
   "execution_count": 38,
   "metadata": {},
   "outputs": [
    {
     "name": "stdout",
     "output_type": "stream",
     "text": [
      "Optimal alpha: 12.697823077378194\n",
      "Lasso CV mean: -23831.76949917916\n",
      "Lasso RMSE on train set: 22482.287246065916\n",
      "Lasso RMSE on validation set: 22632.72311728072\n"
     ]
    }
   ],
   "source": [
    "# top 60 positive coefficients\n",
    "top_60 = list(coef_table[coef_table['Coef']!=0].sort_values(by='Coef', ascending=False).head(60)['Feature'])\n",
    "lasso4, lasso_cv4 = lasso_runner(X_train[top_60], X_val[top_60], n_alphas=200, eps=0.0001)\n",
    "# test_preds = lasso4.predict(df_test[top_60])\n",
    "# # create a csv to submit to kaggle\n",
    "# kaggle_lasso = pd.DataFrame({'ID':df_test['Id'],\n",
    "#                              'SalePrice': test_preds})\n",
    "# kaggle_lasso.to_csv('./datasets/kaggle_lasso_60.csv',index=False)"
   ]
  },
  {
   "cell_type": "code",
   "execution_count": 37,
   "metadata": {},
   "outputs": [
    {
     "name": "stdout",
     "output_type": "stream",
     "text": [
      "Optimal alpha: 6.341934232018883\n",
      "Lasso CV mean: -23687.890139315532\n",
      "Lasso RMSE on train set: 22329.00019110239\n",
      "Lasso RMSE on validation set: 23356.31070967787\n"
     ]
    }
   ],
   "source": [
    "# top 60 absolute coefficients\n",
    "top_60_abs = list(coef_table[coef_table['Coef']!=0].sort_values(by='abs_coef', ascending=False).head(60)['Feature'])\n",
    "lasso4, lasso_cv4 = lasso_runner(X_train[top_60_abs], X_val[top_60_abs], n_alphas=200, eps=0.0001)\n",
    "# test_preds = lasso4.predict(df_test[top_60_abs])\n",
    "# # create a csv to submit to kaggle\n",
    "# kaggle_lasso = pd.DataFrame({'ID':df_test['Id'],\n",
    "#                              'SalePrice': test_preds})\n",
    "# kaggle_lasso.to_csv('./datasets/kaggle_lasso_60_abs.csv',index=False)"
   ]
  }
 ],
 "metadata": {
  "kernelspec": {
   "display_name": "Python 3",
   "language": "python",
   "name": "python3"
  },
  "language_info": {
   "codemirror_mode": {
    "name": "ipython",
    "version": 3
   },
   "file_extension": ".py",
   "mimetype": "text/x-python",
   "name": "python",
   "nbconvert_exporter": "python",
   "pygments_lexer": "ipython3",
   "version": "3.8.5"
  }
 },
 "nbformat": 4,
 "nbformat_minor": 4
}
