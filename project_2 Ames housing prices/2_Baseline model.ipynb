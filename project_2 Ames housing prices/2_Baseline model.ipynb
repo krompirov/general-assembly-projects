{
 "cells": [
  {
   "cell_type": "markdown",
   "metadata": {},
   "source": [
    "## Create baseline model\n",
    "To benchmark the performance of the models we are going to test out, we need something to compare them against. Here we create a null regression set, where the predicted SalePrice is simply the mean of the SalePrice of our train_train set."
   ]
  },
  {
   "cell_type": "markdown",
   "metadata": {},
   "source": [
    "#### Import our libraries"
   ]
  },
  {
   "cell_type": "code",
   "execution_count": 1,
   "metadata": {},
   "outputs": [],
   "source": [
    "import pandas as pd\n",
    "import numpy as np\n",
    "from sklearn.metrics import mean_squared_error"
   ]
  },
  {
   "cell_type": "code",
   "execution_count": 2,
   "metadata": {},
   "outputs": [],
   "source": [
    "train_train = pd.read_csv('./datasets/train_train_clean.csv')\n",
    "y_train_mean = train_train['SalePrice'].mean()"
   ]
  },
  {
   "cell_type": "code",
   "execution_count": 3,
   "metadata": {},
   "outputs": [
    {
     "name": "stdout",
     "output_type": "stream",
     "text": [
      "Null regression validation set RMSE: 79511.7311160395\n"
     ]
    }
   ],
   "source": [
    "val = pd.read_csv('./datasets/train_val_clean.csv')\n",
    "val['y_preds'] = y_train_mean\n",
    "print(\"Null regression validation set RMSE: {}\".format(mean_squared_error(val['SalePrice'], val['y_preds'], squared=False)))"
   ]
  },
  {
   "cell_type": "markdown",
   "metadata": {},
   "source": [
    "When we evaluate our models later, we will want them to beat this score on the validation set.\n",
    "***\n",
    "Let's do a test submission to Kaggle."
   ]
  },
  {
   "cell_type": "code",
   "execution_count": 4,
   "metadata": {},
   "outputs": [],
   "source": [
    "test = pd.read_csv('./datasets/test_clean.csv')\n",
    "test['y_preds'] = y_train_mean"
   ]
  },
  {
   "cell_type": "code",
   "execution_count": 5,
   "metadata": {},
   "outputs": [],
   "source": [
    "kaggle_model = test[['Id','y_preds']].copy()\n",
    "kaggle_model.columns = ['Id', 'SalePrice']\n",
    "kaggle_model.to_csv('./datasets/kaggle_model1.csv', index=False)"
   ]
  },
  {
   "cell_type": "markdown",
   "metadata": {},
   "source": [
    "From Kaggle, we get a RMSE of 83689.59345."
   ]
  }
 ],
 "metadata": {
  "kernelspec": {
   "display_name": "Python 3",
   "language": "python",
   "name": "python3"
  },
  "language_info": {
   "codemirror_mode": {
    "name": "ipython",
    "version": 3
   },
   "file_extension": ".py",
   "mimetype": "text/x-python",
   "name": "python",
   "nbconvert_exporter": "python",
   "pygments_lexer": "ipython3",
   "version": "3.8.5"
  }
 },
 "nbformat": 4,
 "nbformat_minor": 4
}
